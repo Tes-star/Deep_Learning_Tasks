{
 "cells": [
  {
   "cell_type": "code",
   "execution_count": 15,
   "outputs": [],
   "source": [
    "import pandas as pd\n",
    "from keras.utils import to_categorical\n",
    "\n",
    "pd.set_option('display.max_rows', None)\n",
    "import numpy  as np\n",
    "import matplotlib.pyplot as plt\n",
    "import tensorflow as tf\n",
    "import tensorflow_addons as tfa\n",
    "import keras\n",
    "from tensorflow import keras\n",
    "from keras.models import Model\n",
    "from keras.metrics import Precision, Recall\n",
    "from keras.layers import Dense, Input, Flatten, Dropout, Embedding"
   ],
   "metadata": {
    "collapsed": false,
    "pycharm": {
     "name": "#%%\n"
    }
   }
  },
  {
   "cell_type": "code",
   "execution_count": 16,
   "outputs": [],
   "source": [
    "# Read in the csv data using pandas\n",
    "def load_data():\n",
    "    train = pd.read_csv('../data/01_train/train.csv',header=None)\n",
    "    sampleTest   = pd.read_csv('../data/01_train/sampleTest.csv')\n",
    "    sampleSubmission  = pd.read_csv('../data/01_train/sampleSubmission.csv')\n",
    "    return train,sampleTest,sampleSubmission"
   ],
   "metadata": {
    "collapsed": false,
    "pycharm": {
     "name": "#%%\n"
    }
   }
  },
  {
   "cell_type": "code",
   "execution_count": 17,
   "outputs": [],
   "source": [
    "#Feature Scaling\n",
    "# load data\n",
    "train, sampleTest, sampleSubmission = load_data()\n",
    "\n",
    "from sklearn.preprocessing import MinMaxScaler\n",
    "sc = MinMaxScaler(feature_range=(0,1))\n",
    "train_scaled = sc.fit_transform(train)"
   ],
   "metadata": {
    "collapsed": false,
    "pycharm": {
     "name": "#%%\n"
    }
   }
  },
  {
   "cell_type": "code",
   "execution_count": 18,
   "outputs": [],
   "source": [
    "x = []\n",
    "y = []\n",
    "n_future = 7 # next 4 days temperature forecast\n",
    "n_past = 90 # Past 90 days\n",
    "for j in range(0,len(train_scaled)):\n",
    "    for i in range(0,len(train_scaled[j])-n_past-n_future+1):\n",
    "        x.append(train_scaled[j,i : i + n_past ])\n",
    "        y.append(train_scaled[j,i + n_past : i + n_past + n_future ])\n",
    "x , y = np.array(x), np.array(y)\n",
    "x = np.reshape(x, (x.shape[0] , x.shape[1], 1) )\n"
   ],
   "metadata": {
    "collapsed": false,
    "pycharm": {
     "name": "#%%\n"
    }
   }
  },
  {
   "cell_type": "markdown",
   "source": [
    "x_train = []\n",
    "y_train = []\n",
    "n_future = 7 # next 4 days temperature forecast\n",
    "n_past = 90 # Past 30 days\n",
    "n_overlap=3\n",
    "overlap=[]\n",
    "for i in range(1,n_overlap+1):\n",
    "    temp=int(n_past-(n_past/n_overlap)*(i))\n",
    "    overlap.append(temp)\n",
    "\n",
    "for j in range(0,len(train_scaled)):\n",
    "    for i in range(0,(len(train_scaled[j])-n_past-n_future+1)):\n",
    "        for o in overlap:\n",
    "            von=i+o\n",
    "            bis=i+o + n_past\n",
    "            if(len(train_scaled[j,von : bis ])==90 and len(train_scaled[j,bis : bis + n_future ])==7):\n",
    "                x_train.append(train_scaled[j,von : bis ])\n",
    "                y_train.append(train_scaled[j,bis : bis + n_future ])\n",
    "\n",
    "#Ah = np.vstack(x_train)\n",
    "#Av = np.hstack(x_train)\n",
    "#x_trainl=x_train\n",
    "x_train , y_train = np.array(x_train), np.array(y_train)\n",
    "x_train = np.reshape(x_train, (x_train.shape[0] , x_train.shape[1], 1) )\n",
    "x=x_train"
   ],
   "metadata": {
    "collapsed": false,
    "pycharm": {
     "name": "#%% md\n"
    }
   }
  },
  {
   "cell_type": "code",
   "execution_count": 11,
   "outputs": [],
   "source": [
    "from keras.models import Sequential\n",
    "from keras.layers import LSTM,Dense ,Dropout\n",
    "# Fitting RNN to training set using Keras Callbacks. Read Keras callbacks docs for more info."
   ],
   "metadata": {
    "collapsed": false,
    "pycharm": {
     "name": "#%%\n"
    }
   }
  },
  {
   "cell_type": "code",
   "execution_count": 19,
   "outputs": [],
   "source": [
    "from keras.layers import Bidirectional\n",
    "def load_model(x_train):\n",
    "    model = Sequential()\n",
    "    model.add(Bidirectional(LSTM(units=30, return_sequences=True, input_shape = (x_train.shape[1],1) ) ))\n",
    "    model.add(Dropout(0.2))\n",
    "    model.add(LSTM(units= 30 , return_sequences=True))\n",
    "    model.add(Dropout(0.2))\n",
    "    model.add(LSTM(units= 30 , return_sequences=True))\n",
    "    model.add(Dropout(0.2))\n",
    "    model.add(LSTM(units= 30))\n",
    "    model.add(Dropout(0.2))\n",
    "    model.add(Dense(units = n_future,activation='linear'))\n",
    "    model.compile(optimizer='adam', loss='mean_squared_error',metrics=['acc','mean_squared_error'])\n",
    "    return model\n"
   ],
   "metadata": {
    "collapsed": false,
    "pycharm": {
     "name": "#%%\n"
    }
   }
  },
  {
   "cell_type": "code",
   "execution_count": 24,
   "outputs": [
    {
     "name": "stdout",
     "output_type": "stream",
     "text": [
      "(31986, 90, 1)\n",
      "(31986, 7)\n",
      "(31986, 90, 1)\n",
      "(31986, 7)\n",
      "(31986, 90, 1)\n",
      "(31986, 7)\n",
      "(31986, 90, 1)\n",
      "(31986, 7)\n"
     ]
    }
   ],
   "source": [
    "# import model_selection module of scikit-learn\n",
    "from sklearn import model_selection\n",
    "# initiate the k-fold class from model_selection module\n",
    "splits=2\n",
    "#for i in range(splits):\n",
    "kf = model_selection.KFold(n_splits=splits,shuffle=True)\n",
    "for fold, (trn_, val_) in enumerate(kf.split(X=x)):\n",
    "    #split dataset\n",
    "    x_train=x[trn_]\n",
    "    y_train=y[trn_]\n",
    "    x_test=x[val_]\n",
    "    y_test=y[val_]\n",
    "\n",
    "    print(x_train.shape)\n",
    "    print(y_train.shape)\n",
    "    print(x_test.shape)\n",
    "    print(y_test.shape)\n",
    "\n",
    "    model=load_model(x_train)\n",
    "    #model.fit(x_train, y_train, epochs=2,batch_size=10000,validation_data=(x_test, y_test))"
   ],
   "metadata": {
    "collapsed": false,
    "pycharm": {
     "name": "#%%\n"
    }
   }
  },
  {
   "cell_type": "code",
   "execution_count": 14,
   "outputs": [
    {
     "name": "stdout",
     "output_type": "stream",
     "text": [
      "400/400 [==============================] - 17s 33ms/step\n"
     ]
    },
    {
     "ename": "ValueError",
     "evalue": "operands could not be broadcast together with shapes (12794,7) (3650,) (12794,7) ",
     "output_type": "error",
     "traceback": [
      "\u001B[1;31m---------------------------------------------------------------------------\u001B[0m",
      "\u001B[1;31mValueError\u001B[0m                                Traceback (most recent call last)",
      "Cell \u001B[1;32mIn [14], line 2\u001B[0m\n\u001B[0;32m      1\u001B[0m predicted_temperature \u001B[38;5;241m=\u001B[39m model\u001B[38;5;241m.\u001B[39mpredict(x_test)\n\u001B[1;32m----> 2\u001B[0m predicted_temperature \u001B[38;5;241m=\u001B[39m \u001B[43msc\u001B[49m\u001B[38;5;241;43m.\u001B[39;49m\u001B[43minverse_transform\u001B[49m\u001B[43m(\u001B[49m\u001B[43mpredicted_temperature\u001B[49m\u001B[43m)\u001B[49m\n",
      "File \u001B[1;32mc:\\users\\vdwti\\pycharmprojects\\shared-tasks-wintersemester-2022-23\\venv\\lib\\site-packages\\sklearn\\preprocessing\\_data.py:532\u001B[0m, in \u001B[0;36mMinMaxScaler.inverse_transform\u001B[1;34m(self, X)\u001B[0m\n\u001B[0;32m    526\u001B[0m check_is_fitted(\u001B[38;5;28mself\u001B[39m)\n\u001B[0;32m    528\u001B[0m X \u001B[38;5;241m=\u001B[39m check_array(\n\u001B[0;32m    529\u001B[0m     X, copy\u001B[38;5;241m=\u001B[39m\u001B[38;5;28mself\u001B[39m\u001B[38;5;241m.\u001B[39mcopy, dtype\u001B[38;5;241m=\u001B[39mFLOAT_DTYPES, force_all_finite\u001B[38;5;241m=\u001B[39m\u001B[38;5;124m\"\u001B[39m\u001B[38;5;124mallow-nan\u001B[39m\u001B[38;5;124m\"\u001B[39m\n\u001B[0;32m    530\u001B[0m )\n\u001B[1;32m--> 532\u001B[0m X \u001B[38;5;241m-\u001B[39m\u001B[38;5;241m=\u001B[39m \u001B[38;5;28mself\u001B[39m\u001B[38;5;241m.\u001B[39mmin_\n\u001B[0;32m    533\u001B[0m X \u001B[38;5;241m/\u001B[39m\u001B[38;5;241m=\u001B[39m \u001B[38;5;28mself\u001B[39m\u001B[38;5;241m.\u001B[39mscale_\n\u001B[0;32m    534\u001B[0m \u001B[38;5;28;01mreturn\u001B[39;00m X\n",
      "\u001B[1;31mValueError\u001B[0m: operands could not be broadcast together with shapes (12794,7) (3650,) (12794,7) "
     ]
    }
   ],
   "source": [
    "predicted_temperature = model.predict(x_test)\n",
    "predicted_temperature = sc.inverse_transform(predicted_temperature)\n",
    "#predicted_temperature = np.reshape(predicted_temperature,(predicted_temperature.shape[1],predicted_temperature.shape[0]))"
   ],
   "metadata": {
    "collapsed": false,
    "pycharm": {
     "name": "#%%\n"
    }
   }
  },
  {
   "cell_type": "code",
   "execution_count": null,
   "outputs": [],
   "source": [
    "y_test"
   ],
   "metadata": {
    "collapsed": false,
    "pycharm": {
     "name": "#%%\n"
    }
   }
  },
  {
   "cell_type": "code",
   "execution_count": null,
   "outputs": [],
   "source": [
    "predicted_temperature"
   ],
   "metadata": {
    "collapsed": false,
    "pycharm": {
     "name": "#%%\n"
    }
   }
  },
  {
   "cell_type": "code",
   "execution_count": null,
   "outputs": [],
   "source": [
    "dif=y_test-predicted_temperature\n",
    "dif"
   ],
   "metadata": {
    "collapsed": false,
    "pycharm": {
     "name": "#%%\n"
    }
   }
  },
  {
   "cell_type": "code",
   "execution_count": null,
   "outputs": [],
   "source": [
    "from numpy import mean\n",
    "\n",
    "mean(abs(dif))"
   ],
   "metadata": {
    "collapsed": false,
    "pycharm": {
     "name": "#%%\n"
    }
   }
  }
 ],
 "metadata": {
  "kernelspec": {
   "display_name": "Python 3",
   "language": "python",
   "name": "python3"
  },
  "language_info": {
   "codemirror_mode": {
    "name": "ipython",
    "version": 2
   },
   "file_extension": ".py",
   "mimetype": "text/x-python",
   "name": "python",
   "nbconvert_exporter": "python",
   "pygments_lexer": "ipython2",
   "version": "2.7.6"
  }
 },
 "nbformat": 4,
 "nbformat_minor": 0
}
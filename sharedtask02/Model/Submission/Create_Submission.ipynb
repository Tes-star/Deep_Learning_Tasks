{
 "cells": [
  {
   "cell_type": "code",
   "execution_count": 178,
   "outputs": [],
   "source": [
    "import pandas as pd\n",
    "import numpy as np"
   ],
   "metadata": {
    "collapsed": false
   }
  },
  {
   "cell_type": "code",
   "execution_count": 179,
   "outputs": [],
   "source": [
    "# download best model\n",
    "import wandb\n",
    "api = wandb.Api()\n",
    "run = api.run(\"deep_learning_hsa/Abgabe_02/nft17upj\")\n",
    "model=run.file(\"model-best.h5\").download(replace=True)"
   ],
   "metadata": {
    "collapsed": false
   }
  },
  {
   "cell_type": "code",
   "execution_count": 180,
   "outputs": [],
   "source": [
    "from sharedtask02.Model.model import create_traindataset\n",
    "from sklearn.preprocessing import StandardScaler\n",
    "# Import Data\n",
    "from sklearn.preprocessing import MinMaxScaler\n",
    "# Read in the csv data using pandas\n",
    "train = pd.read_csv('../../data/01_train/train.csv', header=None)\n",
    "\n",
    "sampleTest = pd.read_csv('../../data/01_train/sampleSubmission.csv', header=None)\n",
    "sampleTest=sampleTest.to_numpy()\n",
    "\n",
    "test_original = pd.read_csv('../../data/01_train/sampleTest.csv', header=None)\n",
    "test_original=test_original.to_numpy()\n",
    "test=test_original.copy()"
   ],
   "metadata": {
    "collapsed": false
   }
  },
  {
   "cell_type": "code",
   "execution_count": 181,
   "outputs": [
    {
     "name": "stdout",
     "output_type": "stream",
     "text": [
      "Data successful preprocessed!\n"
     ]
    }
   ],
   "source": [
    "x_train, y_train, x_test, y_test = create_traindataset(data=train)\n",
    "scaler = StandardScaler()\n",
    "#scal Data\n",
    "\n",
    "scaler.fit_transform(x_train.reshape(-1, 1))\n",
    "\n",
    "shape = x_train.shape\n",
    "x_train = scaler.transform(x_train.reshape(-1, 1))\n",
    "x_train = x_train.reshape(shape)\n",
    "\n",
    "shape = test.shape\n",
    "test = scaler.transform(test.reshape(-1, 1))\n",
    "test = test.reshape(shape)\n",
    "\n",
    "print(\"Data successful preprocessed!\")"
   ],
   "metadata": {
    "collapsed": false
   }
  },
  {
   "cell_type": "code",
   "execution_count": 182,
   "outputs": [
    {
     "name": "stdout",
     "output_type": "stream",
     "text": [
      "Rundungsfehler\n"
     ]
    }
   ],
   "source": [
    "#test if valide\n",
    "test_reinitalisiert=scaler.inverse_transform(test)\n",
    "\n",
    "if np.array_equal(test_original,test_reinitalisiert):\n",
    "    print('Erfolg')\n",
    "else:\n",
    "    print('Rundungsfehler')\n",
    "    for r in range(test_original.shape[0]):\n",
    "        for c in range(test_original.shape[1]):\n",
    "            if test_original[r, c] != round(test_reinitalisiert[r, c],10):\n",
    "                print(r,c,test_original[r,c],test_reinitalisiert[r,c])\n"
   ],
   "metadata": {
    "collapsed": false
   }
  },
  {
   "cell_type": "code",
   "execution_count": 183,
   "outputs": [],
   "source": [
    "import keras\n",
    "\n",
    "model = keras.models.load_model('model-best.h5')"
   ],
   "metadata": {
    "collapsed": false
   }
  },
  {
   "cell_type": "code",
   "execution_count": 184,
   "outputs": [
    {
     "name": "stdout",
     "output_type": "stream",
     "text": [
      "1/1 [==============================] - 0s 107ms/step\n"
     ]
    }
   ],
   "source": [
    "import tensorflow as tf\n",
    "test = np.expand_dims(np.array(test), axis=-1)\n",
    "test = tf.convert_to_tensor(test)\n",
    "pred_sample = model.predict(x=test)\n",
    "pred_sample_ausgabe=np.ndarray.tolist(pred_sample)\n"
   ],
   "metadata": {
    "collapsed": false
   }
  },
  {
   "cell_type": "code",
   "execution_count": 185,
   "outputs": [
    {
     "ename": "ValueError",
     "evalue": "y_true and y_pred have different number of output (1!=7)",
     "output_type": "error",
     "traceback": [
      "\u001B[1;31m---------------------------------------------------------------------------\u001B[0m",
      "\u001B[1;31mValueError\u001B[0m                                Traceback (most recent call last)",
      "Cell \u001B[1;32mIn [185], line 4\u001B[0m\n\u001B[0;32m      1\u001B[0m \u001B[38;5;28;01mfrom\u001B[39;00m \u001B[38;5;21;01msklearn\u001B[39;00m\u001B[38;5;21;01m.\u001B[39;00m\u001B[38;5;21;01mmetrics\u001B[39;00m \u001B[38;5;28;01mimport\u001B[39;00m mean_squared_error\n\u001B[0;32m      3\u001B[0m \u001B[38;5;66;03m#pred_test = model.predict(x=x_train)\u001B[39;00m\n\u001B[1;32m----> 4\u001B[0m \u001B[38;5;28mprint\u001B[39m(\u001B[43mmean_squared_error\u001B[49m\u001B[43m(\u001B[49m\u001B[43mpred_sample\u001B[49m\u001B[43m,\u001B[49m\u001B[43m \u001B[49m\u001B[43msampleTest\u001B[49m\u001B[43m)\u001B[49m)\n\u001B[0;32m      6\u001B[0m pred_train \u001B[38;5;241m=\u001B[39m model\u001B[38;5;241m.\u001B[39mpredict(x\u001B[38;5;241m=\u001B[39mx_train)\n\u001B[0;32m      7\u001B[0m y_train \u001B[38;5;241m=\u001B[39m    y_train\u001B[38;5;241m.\u001B[39mreshape(pred_train\u001B[38;5;241m.\u001B[39mshape)\n",
      "File \u001B[1;32mC:\\Program Files\\Python310\\lib\\site-packages\\sklearn\\metrics\\_regression.py:442\u001B[0m, in \u001B[0;36mmean_squared_error\u001B[1;34m(y_true, y_pred, sample_weight, multioutput, squared)\u001B[0m\n\u001B[0;32m    382\u001B[0m \u001B[38;5;28;01mdef\u001B[39;00m \u001B[38;5;21mmean_squared_error\u001B[39m(\n\u001B[0;32m    383\u001B[0m     y_true, y_pred, \u001B[38;5;241m*\u001B[39m, sample_weight\u001B[38;5;241m=\u001B[39m\u001B[38;5;28;01mNone\u001B[39;00m, multioutput\u001B[38;5;241m=\u001B[39m\u001B[38;5;124m\"\u001B[39m\u001B[38;5;124muniform_average\u001B[39m\u001B[38;5;124m\"\u001B[39m, squared\u001B[38;5;241m=\u001B[39m\u001B[38;5;28;01mTrue\u001B[39;00m\n\u001B[0;32m    384\u001B[0m ):\n\u001B[0;32m    385\u001B[0m     \u001B[38;5;124;03m\"\"\"Mean squared error regression loss.\u001B[39;00m\n\u001B[0;32m    386\u001B[0m \n\u001B[0;32m    387\u001B[0m \u001B[38;5;124;03m    Read more in the :ref:`User Guide <mean_squared_error>`.\u001B[39;00m\n\u001B[1;32m   (...)\u001B[0m\n\u001B[0;32m    440\u001B[0m \u001B[38;5;124;03m    0.825...\u001B[39;00m\n\u001B[0;32m    441\u001B[0m \u001B[38;5;124;03m    \"\"\"\u001B[39;00m\n\u001B[1;32m--> 442\u001B[0m     y_type, y_true, y_pred, multioutput \u001B[38;5;241m=\u001B[39m \u001B[43m_check_reg_targets\u001B[49m\u001B[43m(\u001B[49m\n\u001B[0;32m    443\u001B[0m \u001B[43m        \u001B[49m\u001B[43my_true\u001B[49m\u001B[43m,\u001B[49m\u001B[43m \u001B[49m\u001B[43my_pred\u001B[49m\u001B[43m,\u001B[49m\u001B[43m \u001B[49m\u001B[43mmultioutput\u001B[49m\n\u001B[0;32m    444\u001B[0m \u001B[43m    \u001B[49m\u001B[43m)\u001B[49m\n\u001B[0;32m    445\u001B[0m     check_consistent_length(y_true, y_pred, sample_weight)\n\u001B[0;32m    446\u001B[0m     output_errors \u001B[38;5;241m=\u001B[39m np\u001B[38;5;241m.\u001B[39maverage((y_true \u001B[38;5;241m-\u001B[39m y_pred) \u001B[38;5;241m*\u001B[39m\u001B[38;5;241m*\u001B[39m \u001B[38;5;241m2\u001B[39m, axis\u001B[38;5;241m=\u001B[39m\u001B[38;5;241m0\u001B[39m, weights\u001B[38;5;241m=\u001B[39msample_weight)\n",
      "File \u001B[1;32mC:\\Program Files\\Python310\\lib\\site-packages\\sklearn\\metrics\\_regression.py:111\u001B[0m, in \u001B[0;36m_check_reg_targets\u001B[1;34m(y_true, y_pred, multioutput, dtype)\u001B[0m\n\u001B[0;32m    108\u001B[0m     y_pred \u001B[38;5;241m=\u001B[39m y_pred\u001B[38;5;241m.\u001B[39mreshape((\u001B[38;5;241m-\u001B[39m\u001B[38;5;241m1\u001B[39m, \u001B[38;5;241m1\u001B[39m))\n\u001B[0;32m    110\u001B[0m \u001B[38;5;28;01mif\u001B[39;00m y_true\u001B[38;5;241m.\u001B[39mshape[\u001B[38;5;241m1\u001B[39m] \u001B[38;5;241m!=\u001B[39m y_pred\u001B[38;5;241m.\u001B[39mshape[\u001B[38;5;241m1\u001B[39m]:\n\u001B[1;32m--> 111\u001B[0m     \u001B[38;5;28;01mraise\u001B[39;00m \u001B[38;5;167;01mValueError\u001B[39;00m(\n\u001B[0;32m    112\u001B[0m         \u001B[38;5;124m\"\u001B[39m\u001B[38;5;124my_true and y_pred have different number of output (\u001B[39m\u001B[38;5;132;01m{0}\u001B[39;00m\u001B[38;5;124m!=\u001B[39m\u001B[38;5;132;01m{1}\u001B[39;00m\u001B[38;5;124m)\u001B[39m\u001B[38;5;124m\"\u001B[39m\u001B[38;5;241m.\u001B[39mformat(\n\u001B[0;32m    113\u001B[0m             y_true\u001B[38;5;241m.\u001B[39mshape[\u001B[38;5;241m1\u001B[39m], y_pred\u001B[38;5;241m.\u001B[39mshape[\u001B[38;5;241m1\u001B[39m]\n\u001B[0;32m    114\u001B[0m         )\n\u001B[0;32m    115\u001B[0m     )\n\u001B[0;32m    117\u001B[0m n_outputs \u001B[38;5;241m=\u001B[39m y_true\u001B[38;5;241m.\u001B[39mshape[\u001B[38;5;241m1\u001B[39m]\n\u001B[0;32m    118\u001B[0m allowed_multioutput_str \u001B[38;5;241m=\u001B[39m (\u001B[38;5;124m\"\u001B[39m\u001B[38;5;124mraw_values\u001B[39m\u001B[38;5;124m\"\u001B[39m, \u001B[38;5;124m\"\u001B[39m\u001B[38;5;124muniform_average\u001B[39m\u001B[38;5;124m\"\u001B[39m, \u001B[38;5;124m\"\u001B[39m\u001B[38;5;124mvariance_weighted\u001B[39m\u001B[38;5;124m\"\u001B[39m)\n",
      "\u001B[1;31mValueError\u001B[0m: y_true and y_pred have different number of output (1!=7)"
     ]
    }
   ],
   "source": [
    "from sklearn.metrics import mean_squared_error\n",
    "\n",
    "#pred_test = model.predict(x=x_train)\n",
    "print(mean_squared_error(pred_sample, sampleTest))\n",
    "\n",
    "pred_train = model.predict(x=x_train)\n",
    "y_train =    y_train.reshape(pred_train.shape)\n",
    "#pred_train = np.expand_dims(np.array(pred_train), axis=-1)\n",
    "print(mean_squared_error(pred_train, y_train))\n",
    "\n",
    "pred_test = model.predict(x=x_test)\n",
    "y_test =    y_test.reshape(pred_test.shape)\n",
    "print(mean_squared_error(pred_test, y_test))\n"
   ],
   "metadata": {
    "collapsed": false
   }
  },
  {
   "cell_type": "code",
   "execution_count": null,
   "outputs": [],
   "source": [
    "pred_test-y_test"
   ],
   "metadata": {
    "collapsed": false
   }
  },
  {
   "cell_type": "code",
   "execution_count": null,
   "outputs": [],
   "source": [
    "# predict Data\n",
    "\n",
    "#pred_sampleTest= test.append(pred_sampleTest)\n",
    "np.savetxt(\"../../data/01_train/pred_sample.csv\",\n",
    "           pred_sample_ausgabe,\n",
    "           delimiter =\", \",\n",
    "           fmt ='% s')\n",
    "\n",
    "print(\"pred_test.csv successful saved!\")"
   ],
   "metadata": {
    "collapsed": false
   }
  },
  {
   "cell_type": "code",
   "execution_count": null,
   "outputs": [],
   "source": [],
   "metadata": {
    "collapsed": false
   }
  },
  {
   "cell_type": "code",
   "execution_count": null,
   "outputs": [],
   "source": [],
   "metadata": {
    "collapsed": false
   }
  }
 ],
 "metadata": {
  "kernelspec": {
   "display_name": "Python 3",
   "language": "python",
   "name": "python3"
  },
  "language_info": {
   "codemirror_mode": {
    "name": "ipython",
    "version": 2
   },
   "file_extension": ".py",
   "mimetype": "text/x-python",
   "name": "python",
   "nbconvert_exporter": "python",
   "pygments_lexer": "ipython2",
   "version": "2.7.6"
  }
 },
 "nbformat": 4,
 "nbformat_minor": 0
}

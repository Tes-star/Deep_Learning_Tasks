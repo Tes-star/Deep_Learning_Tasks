{
 "cells": [
  {
   "cell_type": "code",
   "execution_count": 196,
   "outputs": [],
   "source": [
    "import pandas as pd\n",
    "import numpy as np"
   ],
   "metadata": {
    "collapsed": false
   }
  },
  {
   "cell_type": "code",
   "execution_count": 197,
   "outputs": [],
   "source": [
    "# download best model\n",
    "import wandb\n",
    "api = wandb.Api()\n",
    "run = api.run(\"deep_learning_hsa/Abgabe_02/8kpqfasr\")\n",
    "model=run.file(\"model-best.h5\").download(replace=True)"
   ],
   "metadata": {
    "collapsed": false
   }
  },
  {
   "cell_type": "code",
   "execution_count": 198,
   "outputs": [],
   "source": [
    "from sharedtask02.Model.model import create_traindataset\n",
    "from sklearn.preprocessing import StandardScaler\n",
    "# Import Data\n",
    "from sklearn.preprocessing import MinMaxScaler\n",
    "# Read in the csv data using pandas\n",
    "train = pd.read_csv('../../data/01_train/train.csv', header=None)\n",
    "\n",
    "sampleTest = pd.read_csv('../../data/01_train/sampleSubmission.csv', header=None)\n",
    "sampleTest=sampleTest.to_numpy()\n",
    "\n",
    "test_original = pd.read_csv('../../data/01_train/sampleTest.csv', header=None)\n",
    "test_original=test_original.to_numpy()\n",
    "test=test_original.copy()"
   ],
   "metadata": {
    "collapsed": false
   }
  },
  {
   "cell_type": "code",
   "execution_count": 199,
   "outputs": [
    {
     "name": "stdout",
     "output_type": "stream",
     "text": [
      "Data successful preprocessed!\n"
     ]
    }
   ],
   "source": [
    "x_train, y_train, x_test, y_test = create_traindataset(data=train)\n",
    "scaler = StandardScaler()\n",
    "#scal Data\n",
    "\n",
    "scaler.fit_transform(x_train.reshape(-1, 1))\n",
    "\n",
    "shape = x_train.shape\n",
    "x_train = scaler.transform(x_train.reshape(-1, 1))\n",
    "x_train = x_train.reshape(shape)\n",
    "\n",
    "shape = x_test.shape\n",
    "x_test = scaler.transform(x_test.reshape(-1, 1))\n",
    "x_test = x_test.reshape(shape)\n",
    "\n",
    "shape = test.shape\n",
    "test = scaler.transform(test.reshape(-1, 1))\n",
    "test = test.reshape(shape)\n",
    "\n",
    "print(\"Data successful preprocessed!\")"
   ],
   "metadata": {
    "collapsed": false
   }
  },
  {
   "cell_type": "code",
   "execution_count": 200,
   "outputs": [
    {
     "name": "stdout",
     "output_type": "stream",
     "text": [
      "Rundungsfehler\n"
     ]
    }
   ],
   "source": [
    "#test if valide\n",
    "test_reinitalisiert=scaler.inverse_transform(test)\n",
    "\n",
    "if np.array_equal(test_original,test_reinitalisiert):\n",
    "    print('Erfolg')\n",
    "else:\n",
    "    print('Rundungsfehler')\n",
    "    for r in range(test_original.shape[0]):\n",
    "        for c in range(test_original.shape[1]):\n",
    "            if test_original[r, c] != round(test_reinitalisiert[r, c],10):\n",
    "                print(r,c,test_original[r,c],test_reinitalisiert[r,c])\n"
   ],
   "metadata": {
    "collapsed": false
   }
  },
  {
   "cell_type": "code",
   "execution_count": 201,
   "outputs": [],
   "source": [
    "import keras\n",
    "\n",
    "model = keras.models.load_model('model-best.h5')"
   ],
   "metadata": {
    "collapsed": false
   }
  },
  {
   "cell_type": "code",
   "execution_count": 202,
   "outputs": [
    {
     "name": "stdout",
     "output_type": "stream",
     "text": [
      "1/1 [==============================] - 1s 1s/step\n"
     ]
    }
   ],
   "source": [
    "import tensorflow as tf\n",
    "test = np.expand_dims(np.array(test), axis=-1)\n",
    "test = tf.convert_to_tensor(test)\n",
    "pred_sample = model.predict(x=test)\n",
    "pred_sample_ausgabe=np.ndarray.tolist(pred_sample)\n"
   ],
   "metadata": {
    "collapsed": false
   }
  },
  {
   "cell_type": "code",
   "execution_count": 203,
   "outputs": [
    {
     "name": "stdout",
     "output_type": "stream",
     "text": [
      "10.105548865137234\n",
      "1555/1555 [==============================] - 6s 3ms/step\n",
      "11.345508703695149\n",
      "445/445 [==============================] - 2s 3ms/step\n",
      "10.396480624465164\n"
     ]
    }
   ],
   "source": [
    "from sklearn.metrics import mean_squared_error\n",
    "\n",
    "#pred_test = model.predict(x=x_train)\n",
    "print(mean_squared_error(pred_sample, sampleTest))\n",
    "\n",
    "pred_train = model.predict(x=x_train)\n",
    "y_train =    y_train.reshape(pred_train.shape)\n",
    "#pred_train = np.expand_dims(np.array(pred_train), axis=-1)\n",
    "print(mean_squared_error(pred_train, y_train))\n",
    "\n",
    "pred_test = model.predict(x=x_test)\n",
    "y_test =    y_test.reshape(pred_test.shape)\n",
    "print(mean_squared_error(pred_test, y_test))\n"
   ],
   "metadata": {
    "collapsed": false
   }
  },
  {
   "cell_type": "code",
   "execution_count": 204,
   "outputs": [
    {
     "data": {
      "text/plain": "array([[-3.75547972, -2.15407133, -5.24843259, ..., -4.16817303,\n         1.13177376,  5.45836177],\n       [-0.42599487, -4.06473751, -3.86668963, ...,  1.8422852 ,\n         6.15279737,  1.9900342 ],\n       [-5.32740541, -4.9012558 , -4.05272479, ...,  5.46845641,\n         1.43414817, -2.38398161],\n       ...,\n       [-1.72877817, -0.17999461,  0.22138076, ...,  0.72062019,\n         0.83957701,  1.39164057],\n       [-0.34218159,  0.13800048,  1.21898321, ...,  0.70720356,\n         1.23627021, -2.19131356],\n       [-1.14421691,  0.335807  , -0.15318748, ...,  0.69402244,\n        -2.71712881, -1.70314169]])"
     },
     "execution_count": 204,
     "metadata": {},
     "output_type": "execute_result"
    }
   ],
   "source": [
    "pred_test-y_test"
   ],
   "metadata": {
    "collapsed": false
   }
  },
  {
   "cell_type": "code",
   "execution_count": 205,
   "outputs": [
    {
     "name": "stdout",
     "output_type": "stream",
     "text": [
      "pred_test.csv successful saved!\n"
     ]
    }
   ],
   "source": [
    "# predict Data\n",
    "\n",
    "#pred_sampleTest= test.append(pred_sampleTest)\n",
    "np.savetxt(\"../../data/01_train/pred_sample.csv\",\n",
    "           pred_sample_ausgabe,\n",
    "           delimiter =\", \",\n",
    "           fmt ='% s')\n",
    "\n",
    "print(\"pred_test.csv successful saved!\")"
   ],
   "metadata": {
    "collapsed": false
   }
  },
  {
   "cell_type": "code",
   "execution_count": 205,
   "outputs": [],
   "source": [],
   "metadata": {
    "collapsed": false
   }
  },
  {
   "cell_type": "code",
   "execution_count": 205,
   "outputs": [],
   "source": [],
   "metadata": {
    "collapsed": false
   }
  }
 ],
 "metadata": {
  "kernelspec": {
   "display_name": "Python 3",
   "language": "python",
   "name": "python3"
  },
  "language_info": {
   "codemirror_mode": {
    "name": "ipython",
    "version": 2
   },
   "file_extension": ".py",
   "mimetype": "text/x-python",
   "name": "python",
   "nbconvert_exporter": "python",
   "pygments_lexer": "ipython2",
   "version": "2.7.6"
  }
 },
 "nbformat": 4,
 "nbformat_minor": 0
}

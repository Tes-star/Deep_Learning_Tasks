{
 "cells": [
  {
   "cell_type": "code",
   "execution_count": 30,
   "outputs": [],
   "source": [
    "import pandas as pd\n",
    "import numpy as np"
   ],
   "metadata": {
    "collapsed": false
   }
  },
  {
   "cell_type": "code",
   "execution_count": 31,
   "outputs": [],
   "source": [
    "# download best model\n",
    "import wandb\n",
    "api = wandb.Api()\n",
    "run = api.run(\"deep_learning_hsa/Abgabe_02/alq2sz0n\")\n",
    "model=run.file(\"model-best.h5\").download(replace=True)"
   ],
   "metadata": {
    "collapsed": false
   }
  },
  {
   "cell_type": "code",
   "execution_count": 32,
   "outputs": [],
   "source": [
    "from sharedtask02.Model.model import create_traindataset\n",
    "from sklearn.preprocessing import StandardScaler\n",
    "# Import Data\n",
    "from sklearn.preprocessing import MinMaxScaler\n",
    "# Read in the csv data using pandas\n",
    "train = pd.read_csv('../../data/01_train/train.csv', header=None)\n",
    "\n",
    "#sample_y\n",
    "sampleTest = pd.read_csv('../../data/01_train/sampleSubmission.csv', header=None)\n",
    "sampleTest=sampleTest.to_numpy()\n",
    "\n",
    "#sample_x\n",
    "test_original = pd.read_csv('../../data/01_train/sampleTest.csv', header=None)\n",
    "test_original=test_original.to_numpy()\n",
    "test=test_original.copy()\n",
    "\n",
    "#Abgabe_x\n",
    "Abgabe_x = pd.read_csv('../../data/02_test/test_x.csv', header=None)\n",
    "Abgabe_x=Abgabe_x.to_numpy()"
   ],
   "metadata": {
    "collapsed": false
   }
  },
  {
   "cell_type": "code",
   "execution_count": 33,
   "outputs": [
    {
     "name": "stdout",
     "output_type": "stream",
     "text": [
      "Data successful preprocessed!\n",
      "Data successful preprocessed!\n"
     ]
    }
   ],
   "source": [
    "x_train, y_train, x_test, y_test = create_traindataset(data=train)\n",
    "scaler = StandardScaler()\n",
    "#scal Data\n",
    "\n",
    "scaler.fit_transform(x_train.reshape(-1, 1))\n",
    "\n",
    "shape = x_train.shape\n",
    "x_train = scaler.transform(x_train.reshape(-1, 1))\n",
    "x_train = x_train.reshape(shape)\n",
    "\n",
    "shape = x_test.shape\n",
    "x_test = scaler.transform(x_test.reshape(-1, 1))\n",
    "x_test = x_test.reshape(shape)\n",
    "\n",
    "shape = test.shape\n",
    "test = scaler.transform(test.reshape(-1, 1))\n",
    "test = test.reshape(shape)\n",
    "\n",
    "shape = Abgabe_x.shape\n",
    "Abgabe_x = scaler.transform(Abgabe_x.reshape(-1, 1))\n",
    "Abgabe_x = Abgabe_x.reshape(shape)\n",
    "\n",
    "\n",
    "print(\"Data successful preprocessed!\")"
   ],
   "metadata": {
    "collapsed": false
   }
  },
  {
   "cell_type": "code",
   "execution_count": 34,
   "outputs": [
    {
     "name": "stdout",
     "output_type": "stream",
     "text": [
      "Rundungsfehler\n",
      "Rundungsfehler\n"
     ]
    }
   ],
   "source": [
    "#test if valide\n",
    "test_reinitalisiert=scaler.inverse_transform(test)\n",
    "\n",
    "if np.array_equal(test_original,test_reinitalisiert):\n",
    "    print('Erfolg')\n",
    "else:\n",
    "    print('Rundungsfehler')\n",
    "    for r in range(test_original.shape[0]):\n",
    "        for c in range(test_original.shape[1]):\n",
    "            if test_original[r, c] != round(test_reinitalisiert[r, c],10):\n",
    "                print(r,c,test_original[r,c],test_reinitalisiert[r,c])\n"
   ],
   "metadata": {
    "collapsed": false
   }
  },
  {
   "cell_type": "code",
   "execution_count": 35,
   "outputs": [],
   "source": [
    "import keras\n",
    "\n",
    "model = keras.models.load_model('model-best.h5')"
   ],
   "metadata": {
    "collapsed": false
   }
  },
  {
   "cell_type": "code",
   "execution_count": 36,
   "outputs": [],
   "source": [
    "import tensorflow as tf\n",
    "test = np.expand_dims(np.array(test), axis=-1)\n",
    "test = tf.convert_to_tensor(test)\n",
    "\n",
    "Abgabe_x = np.expand_dims(np.array(Abgabe_x), axis=-1)\n",
    "Abgabe_x = tf.convert_to_tensor(Abgabe_x)\n"
   ],
   "metadata": {
    "collapsed": false
   }
  },
  {
   "cell_type": "code",
   "execution_count": 37,
   "outputs": [
    {
     "name": "stdout",
     "output_type": "stream",
     "text": [
      "pred_sample\n",
      "1/1 [==============================] - 0s 175ms/step\n",
      "11.426252011441601\n",
      "\n",
      "train\n",
      "1555/1555 [==============================] - 6s 4ms/step\n",
      "11.255100435838918\n",
      "\n",
      "test\n",
      "445/445 [==============================] - 2s 4ms/step\n",
      "10.254463556884433\n",
      "test\n",
      "4/4 [==============================] - 0s 3ms/step\n",
      "pred_sample\n",
      "1/1 [==============================] - 0s 175ms/step\n",
      "11.426252011441601\n",
      "\n",
      "train\n",
      "1555/1555 [==============================] - 6s 4ms/step\n",
      "11.255100435838918\n",
      "\n",
      "test\n",
      "445/445 [==============================] - 2s 4ms/step\n",
      "10.254463556884433\n",
      "test\n",
      "4/4 [==============================] - 0s 5ms/step\n"
     ]
    }
   ],
   "source": [
    "from sklearn.metrics import mean_squared_error\n",
    "\n",
    "print('pred_sample')\n",
    "pred_sample = model.predict(x=test)\n",
    "print(mean_squared_error(pred_sample, sampleTest))\n",
    "print('')\n",
    "\n",
    "print('train')\n",
    "pred_train = model.predict(x=x_train)\n",
    "y_train =    y_train.reshape(pred_train.shape)\n",
    "#pred_train = np.expand_dims(np.array(pred_train), axis=-1)\n",
    "print(mean_squared_error(pred_train, y_train))\n",
    "print('')\n",
    "\n",
    "print('test')\n",
    "pred_test = model.predict(x=x_test)\n",
    "y_test =    y_test.reshape(pred_test.shape)\n",
    "print(mean_squared_error(pred_test, y_test))\n",
    "\n",
    "print('test')\n",
    "pred_Abgabe = model.predict(x=Abgabe_x)\n"
   ],
   "metadata": {
    "collapsed": false
   }
  },
  {
   "cell_type": "code",
   "execution_count": 38,
   "outputs": [
    {
     "name": "stdout",
     "output_type": "stream",
     "text": [
      "2000/2000 [==============================] - 7s 4ms/step\n",
      "11.032736693496252\n",
      "2000/2000 [==============================] - 9s 4ms/step\n",
      "11.032736693496252\n"
     ]
    }
   ],
   "source": [
    "x=tf.concat([x_train,x_test],0)\n",
    "y_pred = model.predict(x)\n",
    "#y_pred= tf.convert_to_tensor(np.expand_dims(y_pred, axis=-1))\n",
    "\n",
    "y = tf.concat([y_train,y_test],0)\n",
    "\n",
    "mse = mean_squared_error(y_pred, np.squeeze(y.numpy()))\n",
    "print(mse)"
   ],
   "metadata": {
    "collapsed": false,
    "pycharm": {
     "name": "#%%\n"
    }
   }
  },
  {
   "cell_type": "code",
   "execution_count": 39,
   "outputs": [],
   "source": [
    "#sample\n",
    "pred_sample_ausgabe=np.ndarray.tolist(pred_sample)\n",
    "#abgabe\n",
    "pred_Abgabe_ausgabe=np.ndarray.tolist(pred_Abgabe)"
   ],
   "metadata": {
    "collapsed": false
   }
  },
  {
   "cell_type": "code",
   "execution_count": 40,
   "outputs": [
    {
     "name": "stdout",
     "output_type": "stream",
     "text": [
      "pred_test.csv successful saved!\n",
      "pred_Abgabe.csv successful saved!\n",
      "pred_test.csv successful saved!\n",
      "pred_Abgabe.csv successful saved!\n"
     ]
    }
   ],
   "source": [
    "# predict Data\n",
    "\n",
    "#pred_sampleTest= test.append(pred_sampleTest)\n",
    "np.savetxt(\"../../data/01_train/pred_sample.csv\",\n",
    "           pred_sample_ausgabe,\n",
    "           delimiter =\", \",\n",
    "           fmt ='% s')\n",
    "print(\"pred_test.csv successful saved!\")\n",
    "\n",
    "np.savetxt(\"../../data/02_test/pred_Abgabe.csv\",\n",
    "           pred_Abgabe_ausgabe,\n",
    "           delimiter =\", \",\n",
    "           fmt ='% s')\n",
    "\n",
    "print(\"pred_Abgabe.csv successful saved!\")"
   ],
   "metadata": {
    "collapsed": false
   }
  },
  {
   "cell_type": "code",
   "execution_count": 40,
   "outputs": [],
   "source": [],
   "metadata": {
    "collapsed": false
   }
  },
  {
   "cell_type": "code",
   "execution_count": 40,
   "outputs": [],
   "source": [],
   "metadata": {
    "collapsed": false
   }
  }
 ],
 "metadata": {
  "kernelspec": {
   "display_name": "Python 3",
   "language": "python",
   "name": "python3"
  },
  "language_info": {
   "codemirror_mode": {
    "name": "ipython",
    "version": 2
   },
   "file_extension": ".py",
   "mimetype": "text/x-python",
   "name": "python",
   "nbconvert_exporter": "python",
   "pygments_lexer": "ipython2",
   "version": "2.7.6"
  }
 },
 "nbformat": 4,
 "nbformat_minor": 0
}
{
 "cells": [
  {
   "cell_type": "code",
   "execution_count": 1,
   "outputs": [],
   "source": [
    "import pandas as pd\n",
    "import numpy as np"
   ],
   "metadata": {
    "collapsed": false,
    "pycharm": {
     "name": "#%%\n"
    }
   }
  },
  {
   "cell_type": "code",
   "execution_count": 2,
   "outputs": [
    {
     "ename": "CommError",
     "evalue": "File already exists, pass replace=True to overwrite",
     "output_type": "error",
     "traceback": [
      "\u001B[1;31m---------------------------------------------------------------------------\u001B[0m",
      "\u001B[1;31mValueError\u001B[0m                                Traceback (most recent call last)",
      "File \u001B[1;32mc:\\users\\vdwti\\pycharmprojects\\shared-tasks-wintersemester-2022-23\\venv\\lib\\site-packages\\wandb\\apis\\normalize.py:26\u001B[0m, in \u001B[0;36mnormalize_exceptions.<locals>.wrapper\u001B[1;34m(*args, **kwargs)\u001B[0m\n\u001B[0;32m     25\u001B[0m \u001B[38;5;28;01mtry\u001B[39;00m:\n\u001B[1;32m---> 26\u001B[0m     \u001B[38;5;28;01mreturn\u001B[39;00m func(\u001B[38;5;241m*\u001B[39margs, \u001B[38;5;241m*\u001B[39m\u001B[38;5;241m*\u001B[39mkwargs)\n\u001B[0;32m     27\u001B[0m \u001B[38;5;28;01mexcept\u001B[39;00m requests\u001B[38;5;241m.\u001B[39mHTTPError \u001B[38;5;28;01mas\u001B[39;00m err:\n",
      "File \u001B[1;32mc:\\users\\vdwti\\pycharmprojects\\shared-tasks-wintersemester-2022-23\\venv\\lib\\site-packages\\wandb\\sdk\\lib\\retry.py:190\u001B[0m, in \u001B[0;36mretriable.<locals>.decorator.<locals>.wrapped_fn\u001B[1;34m(*args, **kargs)\u001B[0m\n\u001B[0;32m    188\u001B[0m \u001B[38;5;129m@functools\u001B[39m\u001B[38;5;241m.\u001B[39mwraps(fn)\n\u001B[0;32m    189\u001B[0m \u001B[38;5;28;01mdef\u001B[39;00m \u001B[38;5;21mwrapped_fn\u001B[39m(\u001B[38;5;241m*\u001B[39margs: Any, \u001B[38;5;241m*\u001B[39m\u001B[38;5;241m*\u001B[39mkargs: Any) \u001B[38;5;241m-\u001B[39m\u001B[38;5;241m>\u001B[39m Any:\n\u001B[1;32m--> 190\u001B[0m     \u001B[38;5;28;01mreturn\u001B[39;00m retrier(\u001B[38;5;241m*\u001B[39margs, \u001B[38;5;241m*\u001B[39m\u001B[38;5;241m*\u001B[39mkargs)\n",
      "File \u001B[1;32mc:\\users\\vdwti\\pycharmprojects\\shared-tasks-wintersemester-2022-23\\venv\\lib\\site-packages\\wandb\\sdk\\lib\\retry.py:113\u001B[0m, in \u001B[0;36mRetry.__call__\u001B[1;34m(self, *args, **kwargs)\u001B[0m\n\u001B[0;32m    112\u001B[0m \u001B[38;5;28;01mtry\u001B[39;00m:\n\u001B[1;32m--> 113\u001B[0m     result \u001B[38;5;241m=\u001B[39m \u001B[38;5;28mself\u001B[39m\u001B[38;5;241m.\u001B[39m_call_fn(\u001B[38;5;241m*\u001B[39margs, \u001B[38;5;241m*\u001B[39m\u001B[38;5;241m*\u001B[39mkwargs)\n\u001B[0;32m    114\u001B[0m     \u001B[38;5;66;03m# Only print resolved attempts once every minute\u001B[39;00m\n",
      "File \u001B[1;32mc:\\users\\vdwti\\pycharmprojects\\shared-tasks-wintersemester-2022-23\\venv\\lib\\site-packages\\wandb\\apis\\public.py:2728\u001B[0m, in \u001B[0;36mFile.download\u001B[1;34m(self, root, replace)\u001B[0m\n\u001B[0;32m   2727\u001B[0m \u001B[38;5;28;01mif\u001B[39;00m os\u001B[38;5;241m.\u001B[39mpath\u001B[38;5;241m.\u001B[39mexists(path) \u001B[38;5;129;01mand\u001B[39;00m \u001B[38;5;129;01mnot\u001B[39;00m replace:\n\u001B[1;32m-> 2728\u001B[0m     \u001B[38;5;28;01mraise\u001B[39;00m \u001B[38;5;167;01mValueError\u001B[39;00m(\u001B[38;5;124m\"\u001B[39m\u001B[38;5;124mFile already exists, pass replace=True to overwrite\u001B[39m\u001B[38;5;124m\"\u001B[39m)\n\u001B[0;32m   2729\u001B[0m util\u001B[38;5;241m.\u001B[39mdownload_file_from_url(path, \u001B[38;5;28mself\u001B[39m\u001B[38;5;241m.\u001B[39murl, Api()\u001B[38;5;241m.\u001B[39mapi_key)\n",
      "\u001B[1;31mValueError\u001B[0m: File already exists, pass replace=True to overwrite",
      "\nDuring handling of the above exception, another exception occurred:\n",
      "\u001B[1;31mCommError\u001B[0m                                 Traceback (most recent call last)",
      "Cell \u001B[1;32mIn [2], line 5\u001B[0m\n\u001B[0;32m      3\u001B[0m api \u001B[38;5;241m=\u001B[39m wandb\u001B[38;5;241m.\u001B[39mApi()\n\u001B[0;32m      4\u001B[0m run \u001B[38;5;241m=\u001B[39m api\u001B[38;5;241m.\u001B[39mrun(\u001B[38;5;124m\"\u001B[39m\u001B[38;5;124mdeep_learning_hsa/Deep_Learning/o8u9mi68\u001B[39m\u001B[38;5;124m\"\u001B[39m)\n\u001B[1;32m----> 5\u001B[0m model\u001B[38;5;241m=\u001B[39m\u001B[43mrun\u001B[49m\u001B[38;5;241;43m.\u001B[39;49m\u001B[43mfile\u001B[49m\u001B[43m(\u001B[49m\u001B[38;5;124;43m\"\u001B[39;49m\u001B[38;5;124;43mmodel-best.h5\u001B[39;49m\u001B[38;5;124;43m\"\u001B[39;49m\u001B[43m)\u001B[49m\u001B[38;5;241;43m.\u001B[39;49m\u001B[43mdownload\u001B[49m\u001B[43m(\u001B[49m\u001B[43m)\u001B[49m\n",
      "File \u001B[1;32mc:\\users\\vdwti\\pycharmprojects\\shared-tasks-wintersemester-2022-23\\venv\\lib\\site-packages\\wandb\\apis\\normalize.py:62\u001B[0m, in \u001B[0;36mnormalize_exceptions.<locals>.wrapper\u001B[1;34m(*args, **kwargs)\u001B[0m\n\u001B[0;32m     60\u001B[0m     \u001B[38;5;28;01mraise\u001B[39;00m\n\u001B[0;32m     61\u001B[0m \u001B[38;5;28;01melse\u001B[39;00m:\n\u001B[1;32m---> 62\u001B[0m     \u001B[38;5;28;01mraise\u001B[39;00m CommError(message, err)\u001B[38;5;241m.\u001B[39mwith_traceback(sys\u001B[38;5;241m.\u001B[39mexc_info()[\u001B[38;5;241m2\u001B[39m])\n",
      "File \u001B[1;32mc:\\users\\vdwti\\pycharmprojects\\shared-tasks-wintersemester-2022-23\\venv\\lib\\site-packages\\wandb\\apis\\normalize.py:26\u001B[0m, in \u001B[0;36mnormalize_exceptions.<locals>.wrapper\u001B[1;34m(*args, **kwargs)\u001B[0m\n\u001B[0;32m     24\u001B[0m message \u001B[38;5;241m=\u001B[39m \u001B[38;5;124m\"\u001B[39m\u001B[38;5;124mWhoa, you found a bug.\u001B[39m\u001B[38;5;124m\"\u001B[39m\n\u001B[0;32m     25\u001B[0m \u001B[38;5;28;01mtry\u001B[39;00m:\n\u001B[1;32m---> 26\u001B[0m     \u001B[38;5;28;01mreturn\u001B[39;00m func(\u001B[38;5;241m*\u001B[39margs, \u001B[38;5;241m*\u001B[39m\u001B[38;5;241m*\u001B[39mkwargs)\n\u001B[0;32m     27\u001B[0m \u001B[38;5;28;01mexcept\u001B[39;00m requests\u001B[38;5;241m.\u001B[39mHTTPError \u001B[38;5;28;01mas\u001B[39;00m err:\n\u001B[0;32m     28\u001B[0m     \u001B[38;5;28;01mraise\u001B[39;00m CommError(err\u001B[38;5;241m.\u001B[39mresponse, err)\n",
      "File \u001B[1;32mc:\\users\\vdwti\\pycharmprojects\\shared-tasks-wintersemester-2022-23\\venv\\lib\\site-packages\\wandb\\sdk\\lib\\retry.py:190\u001B[0m, in \u001B[0;36mretriable.<locals>.decorator.<locals>.wrapped_fn\u001B[1;34m(*args, **kargs)\u001B[0m\n\u001B[0;32m    188\u001B[0m \u001B[38;5;129m@functools\u001B[39m\u001B[38;5;241m.\u001B[39mwraps(fn)\n\u001B[0;32m    189\u001B[0m \u001B[38;5;28;01mdef\u001B[39;00m \u001B[38;5;21mwrapped_fn\u001B[39m(\u001B[38;5;241m*\u001B[39margs: Any, \u001B[38;5;241m*\u001B[39m\u001B[38;5;241m*\u001B[39mkargs: Any) \u001B[38;5;241m-\u001B[39m\u001B[38;5;241m>\u001B[39m Any:\n\u001B[1;32m--> 190\u001B[0m     \u001B[38;5;28;01mreturn\u001B[39;00m retrier(\u001B[38;5;241m*\u001B[39margs, \u001B[38;5;241m*\u001B[39m\u001B[38;5;241m*\u001B[39mkargs)\n",
      "File \u001B[1;32mc:\\users\\vdwti\\pycharmprojects\\shared-tasks-wintersemester-2022-23\\venv\\lib\\site-packages\\wandb\\sdk\\lib\\retry.py:113\u001B[0m, in \u001B[0;36mRetry.__call__\u001B[1;34m(self, *args, **kwargs)\u001B[0m\n\u001B[0;32m    111\u001B[0m \u001B[38;5;28;01mwhile\u001B[39;00m \u001B[38;5;28;01mTrue\u001B[39;00m:\n\u001B[0;32m    112\u001B[0m     \u001B[38;5;28;01mtry\u001B[39;00m:\n\u001B[1;32m--> 113\u001B[0m         result \u001B[38;5;241m=\u001B[39m \u001B[38;5;28mself\u001B[39m\u001B[38;5;241m.\u001B[39m_call_fn(\u001B[38;5;241m*\u001B[39margs, \u001B[38;5;241m*\u001B[39m\u001B[38;5;241m*\u001B[39mkwargs)\n\u001B[0;32m    114\u001B[0m         \u001B[38;5;66;03m# Only print resolved attempts once every minute\u001B[39;00m\n\u001B[0;32m    115\u001B[0m         \u001B[38;5;28;01mif\u001B[39;00m \u001B[38;5;28mself\u001B[39m\u001B[38;5;241m.\u001B[39m_num_iter \u001B[38;5;241m>\u001B[39m \u001B[38;5;241m2\u001B[39m \u001B[38;5;129;01mand\u001B[39;00m now \u001B[38;5;241m-\u001B[39m \u001B[38;5;28mself\u001B[39m\u001B[38;5;241m.\u001B[39m_last_print \u001B[38;5;241m>\u001B[39m datetime\u001B[38;5;241m.\u001B[39mtimedelta(\n\u001B[0;32m    116\u001B[0m             minutes\u001B[38;5;241m=\u001B[39m\u001B[38;5;241m1\u001B[39m\n\u001B[0;32m    117\u001B[0m         ):\n",
      "File \u001B[1;32mc:\\users\\vdwti\\pycharmprojects\\shared-tasks-wintersemester-2022-23\\venv\\lib\\site-packages\\wandb\\apis\\public.py:2728\u001B[0m, in \u001B[0;36mFile.download\u001B[1;34m(self, root, replace)\u001B[0m\n\u001B[0;32m   2726\u001B[0m path \u001B[38;5;241m=\u001B[39m os\u001B[38;5;241m.\u001B[39mpath\u001B[38;5;241m.\u001B[39mjoin(root, \u001B[38;5;28mself\u001B[39m\u001B[38;5;241m.\u001B[39mname)\n\u001B[0;32m   2727\u001B[0m \u001B[38;5;28;01mif\u001B[39;00m os\u001B[38;5;241m.\u001B[39mpath\u001B[38;5;241m.\u001B[39mexists(path) \u001B[38;5;129;01mand\u001B[39;00m \u001B[38;5;129;01mnot\u001B[39;00m replace:\n\u001B[1;32m-> 2728\u001B[0m     \u001B[38;5;28;01mraise\u001B[39;00m \u001B[38;5;167;01mValueError\u001B[39;00m(\u001B[38;5;124m\"\u001B[39m\u001B[38;5;124mFile already exists, pass replace=True to overwrite\u001B[39m\u001B[38;5;124m\"\u001B[39m)\n\u001B[0;32m   2729\u001B[0m util\u001B[38;5;241m.\u001B[39mdownload_file_from_url(path, \u001B[38;5;28mself\u001B[39m\u001B[38;5;241m.\u001B[39murl, Api()\u001B[38;5;241m.\u001B[39mapi_key)\n\u001B[0;32m   2730\u001B[0m \u001B[38;5;28;01mreturn\u001B[39;00m \u001B[38;5;28mopen\u001B[39m(path)\n",
      "\u001B[1;31mCommError\u001B[0m: File already exists, pass replace=True to overwrite"
     ]
    }
   ],
   "source": [
    "# download best model\n",
    "import wandb\n",
    "api = wandb.Api()\n",
    "run = api.run(\"deep_learning_hsa/Deep_Learning/o8u9mi68\")\n",
    "model=run.file(\"model-best.h5\").download()"
   ],
   "metadata": {
    "collapsed": false,
    "pycharm": {
     "name": "#%%\n"
    }
   }
  },
  {
   "cell_type": "code",
   "execution_count": 5,
   "outputs": [
    {
     "ename": "NotFittedError",
     "evalue": "This MinMaxScaler instance is not fitted yet. Call 'fit' with appropriate arguments before using this estimator.",
     "output_type": "error",
     "traceback": [
      "\u001B[1;31m---------------------------------------------------------------------------\u001B[0m",
      "\u001B[1;31mNotFittedError\u001B[0m                            Traceback (most recent call last)",
      "Cell \u001B[1;32mIn [5], line 19\u001B[0m\n\u001B[0;32m     17\u001B[0m sampleTest \u001B[38;5;241m=\u001B[39m sampleTest\u001B[38;5;241m.\u001B[39mdrop(features_to_drop, axis\u001B[38;5;241m=\u001B[39m\u001B[38;5;241m1\u001B[39m)\n\u001B[0;32m     18\u001B[0m scaler \u001B[38;5;241m=\u001B[39m MinMaxScaler()\n\u001B[1;32m---> 19\u001B[0m sampleTest \u001B[38;5;241m=\u001B[39m \u001B[43mscaler\u001B[49m\u001B[38;5;241;43m.\u001B[39;49m\u001B[43mtransform\u001B[49m\u001B[43m(\u001B[49m\u001B[43msampleTest\u001B[49m\u001B[43m)\u001B[49m\n",
      "File \u001B[1;32mc:\\users\\vdwti\\pycharmprojects\\shared-tasks-wintersemester-2022-23\\venv\\lib\\site-packages\\sklearn\\preprocessing\\_data.py:497\u001B[0m, in \u001B[0;36mMinMaxScaler.transform\u001B[1;34m(self, X)\u001B[0m\n\u001B[0;32m    484\u001B[0m \u001B[38;5;28;01mdef\u001B[39;00m \u001B[38;5;21mtransform\u001B[39m(\u001B[38;5;28mself\u001B[39m, X):\n\u001B[0;32m    485\u001B[0m     \u001B[38;5;124;03m\"\"\"Scale features of X according to feature_range.\u001B[39;00m\n\u001B[0;32m    486\u001B[0m \n\u001B[0;32m    487\u001B[0m \u001B[38;5;124;03m    Parameters\u001B[39;00m\n\u001B[1;32m   (...)\u001B[0m\n\u001B[0;32m    495\u001B[0m \u001B[38;5;124;03m        Transformed data.\u001B[39;00m\n\u001B[0;32m    496\u001B[0m \u001B[38;5;124;03m    \"\"\"\u001B[39;00m\n\u001B[1;32m--> 497\u001B[0m     \u001B[43mcheck_is_fitted\u001B[49m\u001B[43m(\u001B[49m\u001B[38;5;28;43mself\u001B[39;49m\u001B[43m)\u001B[49m\n\u001B[0;32m    499\u001B[0m     X \u001B[38;5;241m=\u001B[39m \u001B[38;5;28mself\u001B[39m\u001B[38;5;241m.\u001B[39m_validate_data(\n\u001B[0;32m    500\u001B[0m         X,\n\u001B[0;32m    501\u001B[0m         copy\u001B[38;5;241m=\u001B[39m\u001B[38;5;28mself\u001B[39m\u001B[38;5;241m.\u001B[39mcopy,\n\u001B[1;32m   (...)\u001B[0m\n\u001B[0;32m    504\u001B[0m         reset\u001B[38;5;241m=\u001B[39m\u001B[38;5;28;01mFalse\u001B[39;00m,\n\u001B[0;32m    505\u001B[0m     )\n\u001B[0;32m    507\u001B[0m     X \u001B[38;5;241m*\u001B[39m\u001B[38;5;241m=\u001B[39m \u001B[38;5;28mself\u001B[39m\u001B[38;5;241m.\u001B[39mscale_\n",
      "File \u001B[1;32mc:\\users\\vdwti\\pycharmprojects\\shared-tasks-wintersemester-2022-23\\venv\\lib\\site-packages\\sklearn\\utils\\validation.py:1345\u001B[0m, in \u001B[0;36mcheck_is_fitted\u001B[1;34m(estimator, attributes, msg, all_or_any)\u001B[0m\n\u001B[0;32m   1340\u001B[0m     fitted \u001B[38;5;241m=\u001B[39m [\n\u001B[0;32m   1341\u001B[0m         v \u001B[38;5;28;01mfor\u001B[39;00m v \u001B[38;5;129;01min\u001B[39;00m \u001B[38;5;28mvars\u001B[39m(estimator) \u001B[38;5;28;01mif\u001B[39;00m v\u001B[38;5;241m.\u001B[39mendswith(\u001B[38;5;124m\"\u001B[39m\u001B[38;5;124m_\u001B[39m\u001B[38;5;124m\"\u001B[39m) \u001B[38;5;129;01mand\u001B[39;00m \u001B[38;5;129;01mnot\u001B[39;00m v\u001B[38;5;241m.\u001B[39mstartswith(\u001B[38;5;124m\"\u001B[39m\u001B[38;5;124m__\u001B[39m\u001B[38;5;124m\"\u001B[39m)\n\u001B[0;32m   1342\u001B[0m     ]\n\u001B[0;32m   1344\u001B[0m \u001B[38;5;28;01mif\u001B[39;00m \u001B[38;5;129;01mnot\u001B[39;00m fitted:\n\u001B[1;32m-> 1345\u001B[0m     \u001B[38;5;28;01mraise\u001B[39;00m NotFittedError(msg \u001B[38;5;241m%\u001B[39m {\u001B[38;5;124m\"\u001B[39m\u001B[38;5;124mname\u001B[39m\u001B[38;5;124m\"\u001B[39m: \u001B[38;5;28mtype\u001B[39m(estimator)\u001B[38;5;241m.\u001B[39m\u001B[38;5;18m__name__\u001B[39m})\n",
      "\u001B[1;31mNotFittedError\u001B[0m: This MinMaxScaler instance is not fitted yet. Call 'fit' with appropriate arguments before using this estimator."
     ]
    }
   ],
   "source": [
    "# Import Data\n",
    "from sklearn.preprocessing import MinMaxScaler\n",
    "# Read in the csv data using pandas\n",
    "train = pd.read_csv('data/01_train/train.csv')\n",
    "sampleTest = pd.read_csv('data/01_train/sampleTest.csv')\n",
    "sampleSubmission = pd.read_csv('data/01_train/sampleSubmission.csv')\n",
    "\n",
    "y_labels = train['t'].unique()\n",
    "n_class = len(y_labels)\n",
    "\n",
    "# drop features without variance\n",
    "features_to_drop = train.nunique()\n",
    "features_to_drop = features_to_drop.loc[features_to_drop.values == 1].index\n",
    "# print(features_to_drop)\n",
    "\n",
    "# now drop these columns from both the training and the test datasets\n",
    "sampleTest = sampleTest.drop(features_to_drop, axis=1)\n",
    "scaler = MinMaxScaler()\n",
    "sampleTest = scaler.transform(sampleTest)"
   ],
   "metadata": {
    "collapsed": false,
    "pycharm": {
     "name": "#%%\n"
    }
   }
  },
  {
   "cell_type": "code",
   "execution_count": 8,
   "outputs": [],
   "source": [
    "import keras\n",
    "\n",
    "model = keras.models.load_model('model-best.h5')"
   ],
   "metadata": {
    "collapsed": false,
    "pycharm": {
     "name": "#%%\n"
    }
   }
  },
  {
   "cell_type": "code",
   "execution_count": 6,
   "outputs": [
    {
     "name": "stdout",
     "output_type": "stream",
     "text": [
      "387/387 [==============================] - 1s 1ms/step\n"
     ]
    }
   ],
   "source": [
    "# predict Data\n",
    "pred_sampleTest = model.predict(x=sampleTest)\n",
    "pred_sampleTest = pred_sampleTest.argmax(axis=1)\n",
    "\n",
    "test=['t']\n",
    "pred_sampleTest=np.ndarray.tolist(pred_sampleTest)\n",
    "pred_sampleTest=test+pred_sampleTest\n",
    "#pred_sampleTest= test.append(pred_sampleTest)\n",
    "np.savetxt(\"pred_sampleTest.csv\",\n",
    "           pred_sampleTest,\n",
    "           delimiter =\", \",\n",
    "           fmt ='% s')"
   ],
   "metadata": {
    "collapsed": false,
    "pycharm": {
     "name": "#%%\n"
    }
   }
  }
 ],
 "metadata": {
  "kernelspec": {
   "display_name": "Python 3",
   "language": "python",
   "name": "python3"
  },
  "language_info": {
   "codemirror_mode": {
    "name": "ipython",
    "version": 2
   },
   "file_extension": ".py",
   "mimetype": "text/x-python",
   "name": "python",
   "nbconvert_exporter": "python",
   "pygments_lexer": "ipython2",
   "version": "2.7.6"
  }
 },
 "nbformat": 4,
 "nbformat_minor": 0
}
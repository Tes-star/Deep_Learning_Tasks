{
 "cells": [
  {
   "cell_type": "code",
   "execution_count": null,
   "outputs": [],
   "source": [
    "from sharedtask01.model import train_model\n",
    "import wandb\n",
    "\n",
    "\"\"\"\n",
    "wenn Error 13 durch shutil.py ausgelöst wird Modell offline trainieren und sweep_upload_data.ipynb zusätzlich ausführen. Dann werden alle 20 Minuten die Ergebnisse manuell hochgeladen\n",
    "\"\"\"\n",
    "# upload offline data\n",
    "!wandb sync --sync-all\n",
    "\n",
    "# Train Model offline\n",
    "!wandb offline\n",
    "# aktiviert offline Modus\n",
    "\n",
    "# define sweep_id\n",
    "sweep_id = 'ovzbvxa7'\n",
    "# run the sweep\n",
    "wandb.agent(sweep_id, function=train_model, project=\"cnn_segmentation_models\", entity=\"pds_project\")"
   ],
   "metadata": {
    "collapsed": false,
    "pycharm": {
     "name": "#%%\n"
    }
   }
  },
  {
   "cell_type": "code",
   "execution_count": 2,
   "outputs": [
    {
     "data": {
      "text/plain": "<function wandb.sdk.wandb_login.login(anonymous: Optional[Literal['must', 'allow', 'never']] = None, key: Optional[str] = None, relogin: Optional[bool] = None, host: Optional[str] = None, force: Optional[bool] = None, timeout: Optional[int] = None) -> bool>"
     },
     "execution_count": 2,
     "metadata": {},
     "output_type": "execute_result"
    }
   ],
   "source": [
    "from sharedtask01.model import train_model\n",
    "import wandb\n",
    "wandb.login"
   ],
   "metadata": {
    "collapsed": false,
    "pycharm": {
     "name": "#%%\n"
    }
   }
  }
 ],
 "metadata": {
  "kernelspec": {
   "display_name": "Python 3",
   "language": "python",
   "name": "python3"
  },
  "language_info": {
   "codemirror_mode": {
    "name": "ipython",
    "version": 2
   },
   "file_extension": ".py",
   "mimetype": "text/x-python",
   "name": "python",
   "nbconvert_exporter": "python",
   "pygments_lexer": "ipython2",
   "version": "2.7.6"
  }
 },
 "nbformat": 4,
 "nbformat_minor": 0
}
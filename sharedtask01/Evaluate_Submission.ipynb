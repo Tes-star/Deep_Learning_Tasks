{
 "cells": [
  {
   "cell_type": "code",
   "execution_count": 2,
   "metadata": {
    "collapsed": true
   },
   "outputs": [],
   "source": [
    "#imports\n",
    "import keras\n",
    "import pandas as pd\n",
    "from glob import glob\n",
    "\n",
    "import wandb\n",
    "api = wandb.Api()\n"
   ]
  },
  {
   "cell_type": "code",
   "execution_count": 17,
   "outputs": [],
   "source": [
    "from sklearn.preprocessing import MinMaxScaler\n",
    "\n",
    "#import data\n",
    "train = pd.read_csv('data/01_train/train.csv')\n",
    "train = train.iloc[:, :-1]\n",
    "\n",
    "test_x = pd.read_csv('data/02_test/test_x.csv')\n",
    "test_y = pd.read_csv('data/03_full_test/test_y.csv')\n",
    "\n",
    "abgabe = pd.read_csv('data/02_test/pred_test.csv')\n",
    "#scal Data\n",
    "scaler = MinMaxScaler()\n",
    "train = scaler.fit_transform(train)\n",
    "test_x = scaler.transform(test_x)"
   ],
   "metadata": {
    "collapsed": false,
    "pycharm": {
     "name": "#%%\n"
    }
   }
  },
  {
   "cell_type": "code",
   "execution_count": 5,
   "outputs": [
    {
     "name": "stdout",
     "output_type": "stream",
     "text": [
      "hi\n",
      "119bfvau\n",
      "Run_id: 119bfvau was not found.\n",
      "dd7jbgzq\n",
      "Run_id: dd7jbgzq was not found.\n",
      "fqtaqvx4\n",
      "Run_id: fqtaqvx4 was not found.\n",
      "w8f5jcct\n",
      "Run_id: w8f5jcct was not found.\n",
      "erhpfsi5\n",
      "Run_id: erhpfsi5 was not found.\n",
      "1ets3f7r\n",
      "Run_id: 1ets3f7r was not found.\n",
      "ikkqnkl1\n",
      "Run_id: ikkqnkl1 was not found.\n",
      "rxk53g3f\n",
      "Run_id: rxk53g3f was not found.\n",
      "91rakxtd\n",
      "Run_id: 91rakxtd was not found.\n",
      "0vpqorvq\n",
      "Run_id: 0vpqorvq was not found.\n",
      "0b0ljyox\n",
      "Run_id: 0b0ljyox was not found.\n",
      "nmvbfmm0\n",
      "Run_id: nmvbfmm0 was not found.\n",
      "txnqpwmj\n",
      "Run_id: txnqpwmj was not found.\n",
      "015uirj6\n",
      "Run_id: 015uirj6 was not found.\n",
      "atzula8a\n",
      "Run_id: atzula8a was not found.\n",
      "tv6pdsxd\n",
      "Run_id: tv6pdsxd was not found.\n",
      "pcfbkggs\n",
      "Run_id: pcfbkggs was not found.\n",
      "qjbcyrpy\n",
      "Run_id: qjbcyrpy was not found.\n",
      "mfgxxx3p\n",
      "Run_id: mfgxxx3p was not found.\n",
      "8cl4e07i\n",
      "Run_id: 8cl4e07i was not found.\n",
      "kfmoeshs\n",
      "Run_id: kfmoeshs was not found.\n",
      "nttu77in\n",
      "Run_id: nttu77in was not found.\n",
      "2s2p6pal\n",
      "Run_id: 2s2p6pal was not found.\n",
      "gxcfaml9\n",
      "Run_id: gxcfaml9 was not found.\n",
      "cbtxgs80\n",
      "Run_id: cbtxgs80 was not found.\n",
      "6cb0hc44\n",
      "Run_id: 6cb0hc44 was not found.\n",
      "xm6q65ar\n",
      "Run_id: xm6q65ar was not found.\n",
      "gmrdv5qw\n",
      "Run_id: gmrdv5qw was not found.\n",
      "7k6kd09m\n",
      "Run_id: 7k6kd09m was not found.\n",
      "xvkk5mfj\n",
      "Run_id: xvkk5mfj was not found.\n",
      "2vrr1zez\n",
      "Run_id: 2vrr1zez was not found.\n",
      "bd1xg4cr\n",
      "Run_id: bd1xg4cr was not found.\n",
      "f84z2sb3\n",
      "Run_id: f84z2sb3 was not found.\n",
      "mi8xpyxg\n",
      "Run_id: mi8xpyxg was not found.\n",
      "np25i4wu\n",
      "Run_id: np25i4wu was not found.\n",
      "biyoyxyu\n",
      "Run_id: biyoyxyu was not found.\n",
      "f19bro6g\n",
      "Run_id: f19bro6g was not found.\n",
      "u0qm8a53\n",
      "Run_id: u0qm8a53 was not found.\n",
      "ejdin6ma\n",
      "Run_id: ejdin6ma was not found.\n",
      "olnz4aqv\n",
      "Run_id: olnz4aqv was not found.\n",
      "kt1s7p5p\n",
      "Run_id: kt1s7p5p was not found.\n",
      "jyidoeyj\n",
      "Run_id: jyidoeyj was not found.\n",
      "azrwldjj\n",
      "Run_id: azrwldjj was not found.\n",
      "7gj7g2et\n",
      "Run_id: 7gj7g2et was not found.\n",
      "jbljze0y\n",
      "Run_id: jbljze0y was not found.\n",
      "2sdq574h\n",
      "Run_id: 2sdq574h was not found.\n",
      "w8w11vzg\n",
      "Run_id: w8w11vzg was not found.\n",
      "asvxx8uu\n",
      "Run_id: asvxx8uu was not found.\n",
      "biyuxrxr\n",
      "Run_id: biyuxrxr was not found.\n",
      "bjh6a7em\n",
      "Run_id: bjh6a7em was not found.\n",
      "i0xbgq6x\n",
      "Run_id: i0xbgq6x was not found.\n",
      "d43wacwq\n",
      "Run_id: d43wacwq was not found.\n",
      "tfmhp7ue\n",
      "Run_id: tfmhp7ue was not found.\n",
      "zo08wcn8\n",
      "Run_id: zo08wcn8 was not found.\n",
      "gpxgocg6\n",
      "Run_id: gpxgocg6 was not found.\n",
      "d8wbe0iw\n",
      "Run_id: d8wbe0iw was not found.\n",
      "z9o6pkns\n",
      "Run_id: z9o6pkns was not found.\n",
      "19z9rtrq\n",
      "Run_id: 19z9rtrq was not found.\n",
      "vng0szih\n",
      "Run_id: vng0szih was not found.\n",
      "7onih01c\n",
      "Run_id: 7onih01c was not found.\n",
      "15zdadw1\n",
      "Run_id: 15zdadw1 was not found.\n",
      "j50i4r1u\n",
      "Run_id: j50i4r1u was not found.\n",
      "spck0z4b\n",
      "Run_id: spck0z4b was not found.\n",
      "m52ww3yt\n",
      "Run_id: m52ww3yt was not found.\n",
      "qvurainq\n",
      "Run_id: qvurainq was not found.\n",
      "fy5rwcuo\n",
      "Run_id: fy5rwcuo was not found.\n",
      "sqi3n1fr\n",
      "Run_id: sqi3n1fr was not found.\n",
      "i83n48uy\n",
      "Run_id: i83n48uy was not found.\n",
      "nflkigdk\n",
      "Run_id: nflkigdk was not found.\n",
      "4iovbh87\n",
      "Run_id: 4iovbh87 was not found.\n",
      "bq3a7oam\n",
      "Run_id: bq3a7oam was not found.\n",
      "o8u9mi68\n",
      "Run_id: o8u9mi68 was not found.\n",
      "7sdsq1tf\n",
      "Run_id: 7sdsq1tf was not found.\n",
      "bgnl74v3\n",
      "Run_id: bgnl74v3 was not found.\n",
      "sdswuas6\n",
      "Run_id: sdswuas6 was not found.\n",
      "11i6080r\n",
      "Run_id: 11i6080r was not found.\n",
      "tycxqrlg\n",
      "Run_id: tycxqrlg was not found.\n",
      "akqm05ry\n",
      "Run_id: akqm05ry was not found.\n",
      "i2vnbgdc\n",
      "Run_id: i2vnbgdc was not found.\n",
      "5tq9u3r8\n",
      "Run_id: 5tq9u3r8 was not found.\n",
      "kfrru9ss\n",
      "Run_id: kfrru9ss was not found.\n",
      "5u0q9cxi\n",
      "Run_id: 5u0q9cxi was not found.\n",
      "i2yr9wtx\n",
      "Run_id: i2yr9wtx was not found.\n",
      "u7pf43kn\n",
      "Run_id: u7pf43kn was not found.\n",
      "cskbjmjz\n",
      "Run_id: cskbjmjz was not found.\n",
      "9qsuli8i\n",
      "Run_id: 9qsuli8i was not found.\n",
      "me5tpjf9\n",
      "Run_id: me5tpjf9 was not found.\n",
      "7gdxkjae\n",
      "Run_id: 7gdxkjae was not found.\n",
      "r0gkq7fg\n",
      "Run_id: r0gkq7fg was not found.\n",
      "n2szr6g0\n",
      "Run_id: n2szr6g0 was not found.\n",
      "31ezypt0\n",
      "Run_id: 31ezypt0 was not found.\n",
      "sty2mzel\n",
      "Run_id: sty2mzel was not found.\n",
      "ums1v01c\n",
      "Run_id: ums1v01c was not found.\n",
      "w1m1fq5o\n",
      "Run_id: w1m1fq5o was not found.\n",
      "ic5l1qjv\n",
      "Run_id: ic5l1qjv was not found.\n",
      "0mhsdegb\n",
      "Run_id: 0mhsdegb was not found.\n",
      "ejyorxop\n",
      "Run_id: ejyorxop was not found.\n",
      "2zi4s1d1\n",
      "Run_id: 2zi4s1d1 was not found.\n",
      "upbje4vz\n",
      "Run_id: upbje4vz was not found.\n",
      "4z6t1tmg\n",
      "Run_id: 4z6t1tmg was not found.\n",
      "z52ae27a\n",
      "Run_id: z52ae27a was not found.\n",
      "h7b1z5k6\n",
      "Run_id: h7b1z5k6 was not found.\n",
      "zghbjvaw\n",
      "Run_id: zghbjvaw was not found.\n",
      "mtl6r4k7\n",
      "Run_id: mtl6r4k7 was not found.\n",
      "oncp1jmo\n",
      "Run_id: oncp1jmo was not found.\n",
      "u4n92m40\n",
      "Run_id: u4n92m40 was not found.\n",
      "876yr636\n",
      "Run_id: 876yr636 was not found.\n",
      "2dyttchx\n",
      "Run_id: 2dyttchx was not found.\n",
      "bvid8f8f\n",
      "Run_id: bvid8f8f was not found.\n",
      "zckspw8a\n",
      "Run_id: zckspw8a was not found.\n",
      "bchi3gil\n",
      "Run_id: bchi3gil was not found.\n",
      "4ja51olf\n",
      "Run_id: 4ja51olf was not found.\n",
      "p7w80gd9\n",
      "Run_id: p7w80gd9 was not found.\n",
      "lspq7sgu\n",
      "Run_id: lspq7sgu was not found.\n",
      "t08b2zl5\n",
      "Run_id: t08b2zl5 was not found.\n",
      "uz2wnx9z\n",
      "Run_id: uz2wnx9z was not found.\n",
      "avnjroh5\n",
      "Run_id: avnjroh5 was not found.\n",
      "mpu762sm\n",
      "Run_id: mpu762sm was not found.\n",
      "348shyi1\n",
      "Run_id: 348shyi1 was not found.\n",
      "Found sweep: crs415m4\n",
      "Found sweep: ftnr4fnj\n",
      "Found sweep: tj8tt5ip\n",
      "Found sweep: yp3czept\n"
     ]
    }
   ],
   "source": [
    "def get_model(run_id):\n",
    "    try:\n",
    "        run = api.run(\"deep_learning_hsa/Deep_Learning/\"+run_id)\n",
    "        model=run.file(\"model-best.h5\").download()\n",
    "        print(\"Successful downloaded Run_id: \"+str(run_id))\n",
    "    except:\n",
    "        print(\"Run_id: \"+str(run_id) + \" was not found.\")\n",
    "\n",
    "print(\"hi\")\n",
    "path=glob(\"wandb/*/\", recursive = True) #\n",
    "for folder in path:\n",
    "    folder=folder.replace('\\\\','-')\n",
    "    folder=folder.split('-')\n",
    "    if(folder[1]=='sweep'):\n",
    "        folder_content=glob(\"wandb/\"+folder[1]+'-'+folder[2] +\"//*\",recursive =True)\n",
    "        print(\"Found sweep: \"+ str(folder[2]))\n",
    "        path=path+folder_content\n",
    "    if(folder[1]=='config'):\n",
    "        run_id=folder[-2]\n",
    "        get_model(run_id)\n",
    "    if(folder[1]=='run'):\n",
    "        run_id=folder[-2]\n",
    "        get_model(run_id)\n",
    "\n",
    "                #model = keras.models.load_model('model-best.h5')"
   ],
   "metadata": {
    "collapsed": false,
    "pycharm": {
     "name": "#%%\n"
    }
   }
  },
  {
   "cell_type": "code",
   "execution_count": 12,
   "outputs": [],
   "source": [
    "run = api.run(\"deep_learning_hsa/Deep_Learning/o8u9mi68\")\n",
    "model=run.file(\"model-best.h5\").download(replace=(True))\n"
   ],
   "metadata": {
    "collapsed": false,
    "pycharm": {
     "name": "#%%\n"
    }
   }
  },
  {
   "cell_type": "code",
   "execution_count": 21,
   "outputs": [
    {
     "name": "stdout",
     "output_type": "stream",
     "text": [
      "387/387 [==============================] - 1s 1ms/step\n",
      "8.080155138978668e-05\n",
      "8.080155138978668e-05\n"
     ]
    }
   ],
   "source": [
    "import difflib\n",
    "\n",
    "model = keras.models.load_model('model-best.h5')\n",
    "pred_test = model.predict(x=test_x)\n",
    "pred_test = pred_test.argmax(axis=1)\n",
    "\n",
    "test_y['pred']=pred_test\n",
    "test_y['abgabe']=abgabe\n"
   ],
   "metadata": {
    "collapsed": false,
    "pycharm": {
     "name": "#%%\n"
    }
   }
  },
  {
   "cell_type": "code",
   "execution_count": 23,
   "outputs": [
    {
     "ename": "ValueError",
     "evalue": "The truth value of a Series is ambiguous. Use a.empty, a.bool(), a.item(), a.any() or a.all().",
     "output_type": "error",
     "traceback": [
      "\u001B[1;31m---------------------------------------------------------------------------\u001B[0m",
      "\u001B[1;31mValueError\u001B[0m                                Traceback (most recent call last)",
      "Cell \u001B[1;32mIn [23], line 1\u001B[0m\n\u001B[1;32m----> 1\u001B[0m sm\u001B[38;5;241m=\u001B[39m\u001B[43mdifflib\u001B[49m\u001B[38;5;241;43m.\u001B[39;49m\u001B[43mSequenceMatcher\u001B[49m\u001B[43m(\u001B[49m\u001B[43mtest_y\u001B[49m\u001B[43m[\u001B[49m\u001B[38;5;124;43m'\u001B[39;49m\u001B[38;5;124;43mpred\u001B[39;49m\u001B[38;5;124;43m'\u001B[39;49m\u001B[43m]\u001B[49m\u001B[43m,\u001B[49m\u001B[43mtest_y\u001B[49m\u001B[43m[\u001B[49m\u001B[38;5;124;43m'\u001B[39;49m\u001B[38;5;124;43mt\u001B[39;49m\u001B[38;5;124;43m'\u001B[39;49m\u001B[43m]\u001B[49m\u001B[43m)\u001B[49m\n\u001B[0;32m      2\u001B[0m \u001B[38;5;28mprint\u001B[39m(sm\u001B[38;5;241m.\u001B[39mratio())\n\u001B[0;32m      3\u001B[0m sm\u001B[38;5;241m=\u001B[39mdifflib\u001B[38;5;241m.\u001B[39mSequenceMatcher(test_y[\u001B[38;5;124m'\u001B[39m\u001B[38;5;124mabgabe\u001B[39m\u001B[38;5;124m'\u001B[39m],test_y[\u001B[38;5;124m'\u001B[39m\u001B[38;5;124mt\u001B[39m\u001B[38;5;124m'\u001B[39m])\n",
      "File \u001B[1;32mC:\\Program Files\\Python310\\lib\\difflib.py:182\u001B[0m, in \u001B[0;36mSequenceMatcher.__init__\u001B[1;34m(self, isjunk, a, b, autojunk)\u001B[0m\n\u001B[0;32m    180\u001B[0m \u001B[38;5;28mself\u001B[39m\u001B[38;5;241m.\u001B[39ma \u001B[38;5;241m=\u001B[39m \u001B[38;5;28mself\u001B[39m\u001B[38;5;241m.\u001B[39mb \u001B[38;5;241m=\u001B[39m \u001B[38;5;28;01mNone\u001B[39;00m\n\u001B[0;32m    181\u001B[0m \u001B[38;5;28mself\u001B[39m\u001B[38;5;241m.\u001B[39mautojunk \u001B[38;5;241m=\u001B[39m autojunk\n\u001B[1;32m--> 182\u001B[0m \u001B[38;5;28;43mself\u001B[39;49m\u001B[38;5;241;43m.\u001B[39;49m\u001B[43mset_seqs\u001B[49m\u001B[43m(\u001B[49m\u001B[43ma\u001B[49m\u001B[43m,\u001B[49m\u001B[43m \u001B[49m\u001B[43mb\u001B[49m\u001B[43m)\u001B[49m\n",
      "File \u001B[1;32mC:\\Program Files\\Python310\\lib\\difflib.py:194\u001B[0m, in \u001B[0;36mSequenceMatcher.set_seqs\u001B[1;34m(self, a, b)\u001B[0m\n\u001B[0;32m    185\u001B[0m \u001B[38;5;124;03m\"\"\"Set the two sequences to be compared.\u001B[39;00m\n\u001B[0;32m    186\u001B[0m \n\u001B[0;32m    187\u001B[0m \u001B[38;5;124;03m>>> s = SequenceMatcher()\u001B[39;00m\n\u001B[1;32m   (...)\u001B[0m\n\u001B[0;32m    190\u001B[0m \u001B[38;5;124;03m0.75\u001B[39;00m\n\u001B[0;32m    191\u001B[0m \u001B[38;5;124;03m\"\"\"\u001B[39;00m\n\u001B[0;32m    193\u001B[0m \u001B[38;5;28mself\u001B[39m\u001B[38;5;241m.\u001B[39mset_seq1(a)\n\u001B[1;32m--> 194\u001B[0m \u001B[38;5;28;43mself\u001B[39;49m\u001B[38;5;241;43m.\u001B[39;49m\u001B[43mset_seq2\u001B[49m\u001B[43m(\u001B[49m\u001B[43mb\u001B[49m\u001B[43m)\u001B[49m\n",
      "File \u001B[1;32mC:\\Program Files\\Python310\\lib\\difflib.py:248\u001B[0m, in \u001B[0;36mSequenceMatcher.set_seq2\u001B[1;34m(self, b)\u001B[0m\n\u001B[0;32m    246\u001B[0m \u001B[38;5;28mself\u001B[39m\u001B[38;5;241m.\u001B[39mmatching_blocks \u001B[38;5;241m=\u001B[39m \u001B[38;5;28mself\u001B[39m\u001B[38;5;241m.\u001B[39mopcodes \u001B[38;5;241m=\u001B[39m \u001B[38;5;28;01mNone\u001B[39;00m\n\u001B[0;32m    247\u001B[0m \u001B[38;5;28mself\u001B[39m\u001B[38;5;241m.\u001B[39mfullbcount \u001B[38;5;241m=\u001B[39m \u001B[38;5;28;01mNone\u001B[39;00m\n\u001B[1;32m--> 248\u001B[0m \u001B[38;5;28;43mself\u001B[39;49m\u001B[38;5;241;43m.\u001B[39;49m\u001B[43m__chain_b\u001B[49m\u001B[43m(\u001B[49m\u001B[43m)\u001B[49m\n",
      "File \u001B[1;32mC:\\Program Files\\Python310\\lib\\difflib.py:287\u001B[0m, in \u001B[0;36mSequenceMatcher.__chain_b\u001B[1;34m(self)\u001B[0m\n\u001B[0;32m    285\u001B[0m \u001B[38;5;28mself\u001B[39m\u001B[38;5;241m.\u001B[39mbjunk \u001B[38;5;241m=\u001B[39m junk \u001B[38;5;241m=\u001B[39m \u001B[38;5;28mset\u001B[39m()\n\u001B[0;32m    286\u001B[0m isjunk \u001B[38;5;241m=\u001B[39m \u001B[38;5;28mself\u001B[39m\u001B[38;5;241m.\u001B[39misjunk\n\u001B[1;32m--> 287\u001B[0m \u001B[38;5;28;01mif\u001B[39;00m isjunk:\n\u001B[0;32m    288\u001B[0m     \u001B[38;5;28;01mfor\u001B[39;00m elt \u001B[38;5;129;01min\u001B[39;00m b2j\u001B[38;5;241m.\u001B[39mkeys():\n\u001B[0;32m    289\u001B[0m         \u001B[38;5;28;01mif\u001B[39;00m isjunk(elt):\n",
      "File \u001B[1;32mc:\\users\\vdwti\\pycharmprojects\\shared-tasks-wintersemester-2022-23\\venv\\lib\\site-packages\\pandas\\core\\generic.py:1526\u001B[0m, in \u001B[0;36mNDFrame.__nonzero__\u001B[1;34m(self)\u001B[0m\n\u001B[0;32m   1524\u001B[0m \u001B[38;5;129m@final\u001B[39m\n\u001B[0;32m   1525\u001B[0m \u001B[38;5;28;01mdef\u001B[39;00m \u001B[38;5;21m__nonzero__\u001B[39m(\u001B[38;5;28mself\u001B[39m) \u001B[38;5;241m-\u001B[39m\u001B[38;5;241m>\u001B[39m NoReturn:\n\u001B[1;32m-> 1526\u001B[0m     \u001B[38;5;28;01mraise\u001B[39;00m \u001B[38;5;167;01mValueError\u001B[39;00m(\n\u001B[0;32m   1527\u001B[0m         \u001B[38;5;124mf\u001B[39m\u001B[38;5;124m\"\u001B[39m\u001B[38;5;124mThe truth value of a \u001B[39m\u001B[38;5;132;01m{\u001B[39;00m\u001B[38;5;28mtype\u001B[39m(\u001B[38;5;28mself\u001B[39m)\u001B[38;5;241m.\u001B[39m\u001B[38;5;18m__name__\u001B[39m\u001B[38;5;132;01m}\u001B[39;00m\u001B[38;5;124m is ambiguous. \u001B[39m\u001B[38;5;124m\"\u001B[39m\n\u001B[0;32m   1528\u001B[0m         \u001B[38;5;124m\"\u001B[39m\u001B[38;5;124mUse a.empty, a.bool(), a.item(), a.any() or a.all().\u001B[39m\u001B[38;5;124m\"\u001B[39m\n\u001B[0;32m   1529\u001B[0m     )\n",
      "\u001B[1;31mValueError\u001B[0m: The truth value of a Series is ambiguous. Use a.empty, a.bool(), a.item(), a.any() or a.all()."
     ]
    }
   ],
   "source": [
    "\n",
    "sm=difflib.SequenceMatcher(test_y['pred'],test_y['t'])\n",
    "print(sm.ratio())\n",
    "sm=difflib.SequenceMatcher(test_y['abgabe'],test_y['t'])\n",
    "print(sm.ratio())\n",
    "sm=difflib.SequenceMatcher(test_y['abgabe'],test_y['pred'])\n",
    "print(sm.ratio())"
   ],
   "metadata": {
    "collapsed": false,
    "pycharm": {
     "name": "#%%\n"
    }
   }
  },
  {
   "cell_type": "code",
   "execution_count": 25,
   "outputs": [
    {
     "name": "stdout",
     "output_type": "stream",
     "text": [
      "0.7696347769877182\n",
      "0.7038623141564319\n"
     ]
    }
   ],
   "source": [
    "def find_percentage_agreement(s1, s2):\n",
    "    assert len(s1)==len(s2), \"Lists must have the same shape\"\n",
    "    nb_agreements = 0  # initialize counter to 0\n",
    "    for idx, value in enumerate(s1):\n",
    "        if s2[idx] == value:\n",
    "            nb_agreements += 1\n",
    "\n",
    "    percentage_agreement = nb_agreements/len(s1)\n",
    "\n",
    "    return percentage_agreement\n",
    "print(find_percentage_agreement(test_y['pred'],test_y['t']))\n",
    "print(find_percentage_agreement(test_y['abgabe'],test_y['t']))"
   ],
   "metadata": {
    "collapsed": false,
    "pycharm": {
     "name": "#%%\n"
    }
   }
  },
  {
   "cell_type": "code",
   "execution_count": null,
   "outputs": [],
   "source": [],
   "metadata": {
    "collapsed": false,
    "pycharm": {
     "name": "#%%\n"
    }
   }
  }
 ],
 "metadata": {
  "kernelspec": {
   "display_name": "Python 3",
   "language": "python",
   "name": "python3"
  },
  "language_info": {
   "codemirror_mode": {
    "name": "ipython",
    "version": 2
   },
   "file_extension": ".py",
   "mimetype": "text/x-python",
   "name": "python",
   "nbconvert_exporter": "python",
   "pygments_lexer": "ipython2",
   "version": "2.7.6"
  }
 },
 "nbformat": 4,
 "nbformat_minor": 0
}
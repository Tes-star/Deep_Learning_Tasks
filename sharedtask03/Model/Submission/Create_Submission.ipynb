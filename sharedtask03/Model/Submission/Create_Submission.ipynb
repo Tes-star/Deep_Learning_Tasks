{
 "cells": [
  {
   "cell_type": "code",
   "execution_count": 4,
   "outputs": [],
   "source": [
    "import pandas as pd\n",
    "import numpy as np\n",
    "from keras.utils import to_categorical"
   ],
   "metadata": {
    "collapsed": false
   }
  },
  {
   "cell_type": "code",
   "execution_count": 5,
   "outputs": [],
   "source": [
    "# download best model\n",
    "import wandb\n",
    "api = wandb.Api()\n",
    "# run = api.run(\"deep_learning_hsa/Abgabe_03/893lpjzs\")\n",
    "# model=run.file(\"model-best.h5\").download(replace=True)"
   ],
   "metadata": {
    "collapsed": false
   }
  },
  {
   "cell_type": "code",
   "execution_count": 6,
   "outputs": [],
   "source": [
    "from sharedtask03.Model.helper import import_images\n",
    "\n",
    "\n",
    "y_train, x_train = import_images(path='../../data/01_train/train/')\n",
    "y_test, x_test = import_images(path='../../data/01_train/val/')\n",
    "\n",
    "y_train = to_categorical(y_train)\n",
    "y_test = to_categorical(y_test)\n"
   ],
   "metadata": {
    "collapsed": false
   }
  },
  {
   "cell_type": "code",
   "execution_count": 7,
   "outputs": [],
   "source": [
    "import keras\n",
    "\n",
    "model = keras.models.load_model('model-best.h5')"
   ],
   "metadata": {
    "collapsed": false
   }
  },
  {
   "cell_type": "code",
   "execution_count": 8,
   "outputs": [],
   "source": [
    "import tensorflow as tf\n",
    "\n"
   ],
   "metadata": {
    "collapsed": false
   }
  },
  {
   "cell_type": "code",
   "execution_count": 9,
   "outputs": [
    {
     "name": "stdout",
     "output_type": "stream",
     "text": [
      "train\n",
      "1407/1407 [==============================] - 78s 51ms/step\n",
      "test\n",
      "282/282 [==============================] - 14s 51ms/step\n"
     ]
    }
   ],
   "source": [
    "\n",
    "from sklearn.metrics import mean_squared_error\n",
    "\n",
    "# print('pred_sample')\n",
    "# pred_sample = model.predict(x=test)\n",
    "# print(mean_squared_error(pred_sample, sampleTest))\n",
    "# print('')\n",
    "\n",
    "print('train')\n",
    "pred_train = model.predict(x=x_train)\n",
    "\n",
    "print('test')\n",
    "pred_test = model.predict(x=x_test)\n",
    "\n",
    "# print('test')\n",
    "# pred_Abgabe = model.predict(x=Abgabe_x)\n"
   ],
   "metadata": {
    "collapsed": false
   }
  },
  {
   "cell_type": "code",
   "execution_count": 10,
   "outputs": [
    {
     "name": "stdout",
     "output_type": "stream",
     "text": [
      "Train accuracy\n",
      "0.9476638136663392\n",
      "Test accuracy\n",
      "0.8276670574443141\n"
     ]
    }
   ],
   "source": [
    "\n",
    "# Train\n",
    "pred_trainn=pred_train.argmax(axis=1).reshape(-1)\n",
    "y_trainn=y_train.argmax(axis=1)\n",
    "\n",
    "matches = np.count_nonzero(y_trainn == pred_trainn)\n",
    "mismatches = y_trainn.size - matches\n",
    "print('Train accuracy')\n",
    "print(1-mismatches/matches)\n",
    "\n",
    "# Test\n",
    "pred_testt=pred_test.argmax(axis=1).reshape(-1)\n",
    "y_testt=y_test.argmax(axis=1)\n",
    "\n",
    "matches = np.count_nonzero(y_testt == pred_testt)\n",
    "mismatches = y_testt.size - matches\n",
    "print('Test accuracy')\n",
    "print(1-mismatches/matches)\n",
    "\n",
    "#81,9 jg839iaw\n",
    "#82,7 893lpjzs"
   ],
   "metadata": {
    "collapsed": false
   }
  },
  {
   "cell_type": "code",
   "execution_count": 12,
   "outputs": [
    {
     "name": "stdout",
     "output_type": "stream",
     "text": [
      "141/141 [==============================] - 8s 54ms/step\n"
     ]
    },
    {
     "data": {
      "text/plain": "['airplane',\n 'ship',\n 'truck',\n 'horse',\n 'dog',\n 'truck',\n 'automobile',\n 'truck',\n 'airplane',\n 'airplane',\n 'ship',\n 'dog',\n 'deer',\n 'truck',\n 'horse',\n 'cat',\n 'deer',\n 'dog',\n 'ship',\n 'airplane',\n 'dog',\n 'truck',\n 'bird',\n 'deer',\n 'airplane',\n 'bird',\n 'deer',\n 'airplane',\n 'horse',\n 'horse',\n 'truck',\n 'truck',\n 'airplane',\n 'deer',\n 'automobile',\n 'automobile',\n 'ship',\n 'automobile',\n 'bird',\n 'horse',\n 'airplane',\n 'truck',\n 'truck',\n 'deer',\n 'bird',\n 'horse',\n 'bird',\n 'bird',\n 'airplane',\n 'cat',\n 'truck',\n 'truck',\n 'cat',\n 'ship',\n 'airplane',\n 'cat',\n 'cat',\n 'horse',\n 'horse',\n 'automobile',\n 'dog',\n 'ship',\n 'dog',\n 'cat',\n 'bird',\n 'cat',\n 'cat',\n 'airplane',\n 'dog',\n 'horse',\n 'dog',\n 'truck',\n 'dog',\n 'cat',\n 'horse',\n 'horse',\n 'deer',\n 'ship',\n 'deer',\n 'horse',\n 'deer',\n 'automobile',\n 'airplane',\n 'deer',\n 'horse',\n 'deer',\n 'horse',\n 'cat',\n 'airplane',\n 'deer',\n 'bird',\n 'bird',\n 'cat',\n 'airplane',\n 'airplane',\n 'airplane',\n 'cat',\n 'airplane',\n 'cat',\n 'bird',\n 'automobile',\n 'airplane',\n 'airplane',\n 'airplane',\n 'ship',\n 'bird',\n 'deer',\n 'horse',\n 'airplane',\n 'airplane',\n 'deer',\n 'horse',\n 'airplane',\n 'airplane',\n 'horse',\n 'ship',\n 'ship',\n 'deer',\n 'deer',\n 'deer',\n 'airplane',\n 'horse',\n 'automobile',\n 'horse',\n 'ship',\n 'ship',\n 'dog',\n 'airplane',\n 'truck',\n 'horse',\n 'horse',\n 'automobile',\n 'cat',\n 'bird',\n 'bird',\n 'ship',\n 'horse',\n 'horse',\n 'bird',\n 'truck',\n 'dog',\n 'airplane',\n 'dog',\n 'bird',\n 'truck',\n 'cat',\n 'bird',\n 'airplane',\n 'cat',\n 'cat',\n 'horse',\n 'horse',\n 'cat',\n 'ship',\n 'airplane',\n 'bird',\n 'airplane',\n 'truck',\n 'airplane',\n 'automobile',\n 'ship',\n 'airplane',\n 'truck',\n 'ship',\n 'ship',\n 'automobile',\n 'truck',\n 'deer',\n 'bird',\n 'airplane',\n 'truck',\n 'horse',\n 'truck',\n 'horse',\n 'dog',\n 'cat',\n 'truck',\n 'dog',\n 'bird',\n 'deer',\n 'deer',\n 'truck',\n 'horse',\n 'dog',\n 'ship',\n 'bird',\n 'automobile',\n 'dog',\n 'airplane',\n 'automobile',\n 'airplane',\n 'cat',\n 'dog',\n 'dog',\n 'horse',\n 'truck',\n 'airplane',\n 'automobile',\n 'ship',\n 'cat',\n 'automobile',\n 'automobile',\n 'bird',\n 'dog',\n 'ship',\n 'bird',\n 'airplane',\n 'cat',\n 'bird',\n 'ship',\n 'airplane',\n 'bird',\n 'deer',\n 'airplane',\n 'cat',\n 'truck',\n 'deer',\n 'truck',\n 'truck',\n 'deer',\n 'bird',\n 'dog',\n 'ship',\n 'cat',\n 'bird',\n 'cat',\n 'cat',\n 'cat',\n 'automobile',\n 'airplane',\n 'airplane',\n 'airplane',\n 'truck',\n 'dog',\n 'truck',\n 'truck',\n 'dog',\n 'truck',\n 'deer',\n 'horse',\n 'truck',\n 'cat',\n 'ship',\n 'truck',\n 'bird',\n 'bird',\n 'automobile',\n 'bird',\n 'deer',\n 'deer',\n 'deer',\n 'bird',\n 'horse',\n 'truck',\n 'deer',\n 'deer',\n 'deer',\n 'dog',\n 'horse',\n 'deer',\n 'truck',\n 'automobile',\n 'truck',\n 'bird',\n 'ship',\n 'bird',\n 'horse',\n 'deer',\n 'horse',\n 'bird',\n 'bird',\n 'bird',\n 'automobile',\n 'airplane',\n 'dog',\n 'cat',\n 'bird',\n 'cat',\n 'truck',\n 'horse',\n 'horse',\n 'cat',\n 'cat',\n 'deer',\n 'airplane',\n 'deer',\n 'truck',\n 'deer',\n 'deer',\n 'bird',\n 'airplane',\n 'ship',\n 'airplane',\n 'ship',\n 'cat',\n 'horse',\n 'automobile',\n 'horse',\n 'truck',\n 'cat',\n 'airplane',\n 'airplane',\n 'bird',\n 'automobile',\n 'airplane',\n 'cat',\n 'ship',\n 'cat',\n 'airplane',\n 'airplane',\n 'truck',\n 'deer',\n 'deer',\n 'dog',\n 'airplane',\n 'truck',\n 'horse',\n 'truck',\n 'bird',\n 'horse',\n 'ship',\n 'automobile',\n 'cat',\n 'bird',\n 'deer',\n 'automobile',\n 'truck',\n 'bird',\n 'airplane',\n 'deer',\n 'deer',\n 'truck',\n 'horse',\n 'dog',\n 'truck',\n 'airplane',\n 'horse',\n 'truck',\n 'automobile',\n 'ship',\n 'dog',\n 'cat',\n 'bird',\n 'truck',\n 'cat',\n 'cat',\n 'truck',\n 'horse',\n 'truck',\n 'deer',\n 'airplane',\n 'bird',\n 'automobile',\n 'bird',\n 'airplane',\n 'ship',\n 'ship',\n 'airplane',\n 'deer',\n 'airplane',\n 'horse',\n 'airplane',\n 'airplane',\n 'deer',\n 'ship',\n 'deer',\n 'deer',\n 'truck',\n 'airplane',\n 'ship',\n 'airplane',\n 'automobile',\n 'bird',\n 'bird',\n 'bird',\n 'deer',\n 'cat',\n 'horse',\n 'automobile',\n 'automobile',\n 'bird',\n 'airplane',\n 'airplane',\n 'horse',\n 'bird',\n 'horse',\n 'horse',\n 'cat',\n 'ship',\n 'deer',\n 'dog',\n 'bird',\n 'airplane',\n 'ship',\n 'deer',\n 'airplane',\n 'truck',\n 'bird',\n 'bird',\n 'deer',\n 'horse',\n 'dog',\n 'horse',\n 'horse',\n 'automobile',\n 'deer',\n 'horse',\n 'dog',\n 'automobile',\n 'cat',\n 'horse',\n 'airplane',\n 'ship',\n 'horse',\n 'cat',\n 'deer',\n 'airplane',\n 'truck',\n 'bird',\n 'airplane',\n 'bird',\n 'airplane',\n 'automobile',\n 'deer',\n 'deer',\n 'horse',\n 'truck',\n 'dog',\n 'airplane',\n 'deer',\n 'truck',\n 'automobile',\n 'cat',\n 'truck',\n 'automobile',\n 'deer',\n 'horse',\n 'cat',\n 'ship',\n 'cat',\n 'airplane',\n 'deer',\n 'deer',\n 'airplane',\n 'airplane',\n 'bird',\n 'airplane',\n 'truck',\n 'ship',\n 'horse',\n 'dog',\n 'truck',\n 'airplane',\n 'deer',\n 'dog',\n 'horse',\n 'deer',\n 'truck',\n 'deer',\n 'airplane',\n 'automobile',\n 'airplane',\n 'bird',\n 'airplane',\n 'ship',\n 'deer',\n 'dog',\n 'deer',\n 'ship',\n 'airplane',\n 'bird',\n 'truck',\n 'cat',\n 'cat',\n 'deer',\n 'airplane',\n 'deer',\n 'airplane',\n 'horse',\n 'airplane',\n 'horse',\n 'deer',\n 'truck',\n 'deer',\n 'bird',\n 'ship',\n 'bird',\n 'bird',\n 'automobile',\n 'truck',\n 'automobile',\n 'bird',\n 'deer',\n 'airplane',\n 'airplane',\n 'ship',\n 'automobile',\n 'truck',\n 'deer',\n 'airplane',\n 'horse',\n 'horse',\n 'horse',\n 'cat',\n 'ship',\n 'airplane',\n 'horse',\n 'deer',\n 'airplane',\n 'dog',\n 'truck',\n 'automobile',\n 'automobile',\n 'ship',\n 'cat',\n 'dog',\n 'deer',\n 'deer',\n 'truck',\n 'truck',\n 'horse',\n 'deer',\n 'airplane',\n 'truck',\n 'automobile',\n 'airplane',\n 'cat',\n 'dog',\n 'airplane',\n 'cat',\n 'horse',\n 'bird',\n 'airplane',\n 'deer',\n 'airplane',\n 'airplane',\n 'ship',\n 'deer',\n 'automobile',\n 'ship',\n 'ship',\n 'cat',\n 'cat',\n 'horse',\n 'automobile',\n 'ship',\n 'truck',\n 'deer',\n 'deer',\n 'ship',\n 'ship',\n 'ship',\n 'ship',\n 'cat',\n 'deer',\n 'cat',\n 'horse',\n 'deer',\n 'truck',\n 'ship',\n 'truck',\n 'bird',\n 'airplane',\n 'bird',\n 'airplane',\n 'horse',\n 'horse',\n 'deer',\n 'horse',\n 'cat',\n 'truck',\n 'cat',\n 'cat',\n 'ship',\n 'automobile',\n 'cat',\n 'ship',\n 'truck',\n 'airplane',\n 'horse',\n 'deer',\n 'deer',\n 'automobile',\n 'horse',\n 'truck',\n 'bird',\n 'bird',\n 'truck',\n 'truck',\n 'automobile',\n 'dog',\n 'cat',\n 'deer',\n 'deer',\n 'ship',\n 'truck',\n 'truck',\n 'airplane',\n 'bird',\n 'horse',\n 'cat',\n 'deer',\n 'ship',\n 'airplane',\n 'ship',\n 'airplane',\n 'deer',\n 'ship',\n 'horse',\n 'airplane',\n 'cat',\n 'ship',\n 'deer',\n 'ship',\n 'horse',\n 'horse',\n 'airplane',\n 'cat',\n 'deer',\n 'ship',\n 'deer',\n 'truck',\n 'horse',\n 'deer',\n 'dog',\n 'airplane',\n 'horse',\n 'airplane',\n 'deer',\n 'bird',\n 'bird',\n 'deer',\n 'airplane',\n 'horse',\n 'ship',\n 'deer',\n 'deer',\n 'truck',\n 'cat',\n 'horse',\n 'cat',\n 'cat',\n 'ship',\n 'cat',\n 'bird',\n 'dog',\n 'truck',\n 'dog',\n 'horse',\n 'ship',\n 'deer',\n 'ship',\n 'airplane',\n 'automobile',\n 'airplane',\n 'deer',\n 'airplane',\n 'ship',\n 'deer',\n 'horse',\n 'truck',\n 'horse',\n 'automobile',\n 'deer',\n 'airplane',\n 'deer',\n 'bird',\n 'cat',\n 'automobile',\n 'truck',\n 'deer',\n 'automobile',\n 'ship',\n 'deer',\n 'cat',\n 'horse',\n 'airplane',\n 'airplane',\n 'deer',\n 'airplane',\n 'airplane',\n 'bird',\n 'airplane',\n 'truck',\n 'cat',\n 'airplane',\n 'automobile',\n 'deer',\n 'horse',\n 'airplane',\n 'ship',\n 'automobile',\n 'deer',\n 'airplane',\n 'cat',\n 'truck',\n 'truck',\n 'truck',\n 'airplane',\n 'airplane',\n 'truck',\n 'truck',\n 'bird',\n 'bird',\n 'ship',\n 'dog',\n 'airplane',\n 'airplane',\n 'automobile',\n 'ship',\n 'airplane',\n 'horse',\n 'cat',\n 'truck',\n 'deer',\n 'truck',\n 'deer',\n 'deer',\n 'ship',\n 'automobile',\n 'dog',\n 'dog',\n 'horse',\n 'cat',\n 'horse',\n 'ship',\n 'deer',\n 'horse',\n 'dog',\n 'deer',\n 'deer',\n 'horse',\n 'automobile',\n 'horse',\n 'deer',\n 'bird',\n 'deer',\n 'horse',\n 'automobile',\n 'airplane',\n 'deer',\n 'ship',\n 'bird',\n 'automobile',\n 'ship',\n 'dog',\n 'horse',\n 'ship',\n 'horse',\n 'horse',\n 'bird',\n 'horse',\n 'truck',\n 'bird',\n 'deer',\n 'deer',\n 'deer',\n 'deer',\n 'airplane',\n 'airplane',\n 'horse',\n 'automobile',\n 'deer',\n 'horse',\n 'horse',\n 'automobile',\n 'airplane',\n 'horse',\n 'airplane',\n 'bird',\n 'dog',\n 'ship',\n 'cat',\n 'bird',\n 'cat',\n 'deer',\n 'horse',\n 'automobile',\n 'dog',\n 'horse',\n 'cat',\n 'horse',\n 'bird',\n 'truck',\n 'ship',\n 'cat',\n 'cat',\n 'bird',\n 'truck',\n 'deer',\n 'deer',\n 'automobile',\n 'bird',\n 'bird',\n 'dog',\n 'cat',\n 'automobile',\n 'automobile',\n 'horse',\n 'deer',\n 'horse',\n 'deer',\n 'horse',\n 'airplane',\n 'ship',\n 'horse',\n 'deer',\n 'ship',\n 'bird',\n 'horse',\n 'deer',\n 'horse',\n 'dog',\n 'automobile',\n 'cat',\n 'bird',\n 'airplane',\n 'bird',\n 'truck',\n 'deer',\n 'airplane',\n 'truck',\n 'horse',\n 'bird',\n 'truck',\n 'dog',\n 'horse',\n 'horse',\n 'cat',\n 'deer',\n 'deer',\n 'airplane',\n 'dog',\n 'horse',\n 'airplane',\n 'ship',\n 'dog',\n 'truck',\n 'deer',\n 'horse',\n 'truck',\n 'bird',\n 'automobile',\n 'automobile',\n 'deer',\n 'deer',\n 'deer',\n 'ship',\n 'ship',\n 'horse',\n 'ship',\n 'ship',\n 'deer',\n 'cat',\n 'bird',\n 'deer',\n 'airplane',\n 'horse',\n 'horse',\n 'horse',\n 'truck',\n 'airplane',\n 'horse',\n 'dog',\n 'automobile',\n 'bird',\n 'ship',\n 'automobile',\n 'deer',\n 'ship',\n 'airplane',\n 'horse',\n 'airplane',\n 'cat',\n 'truck',\n 'dog',\n 'cat',\n 'horse',\n 'deer',\n 'dog',\n 'dog',\n 'horse',\n 'ship',\n 'horse',\n 'deer',\n 'airplane',\n 'cat',\n 'cat',\n 'truck',\n 'cat',\n 'truck',\n 'ship',\n 'horse',\n 'airplane',\n 'truck',\n 'deer',\n 'truck',\n 'cat',\n 'ship',\n 'dog',\n 'deer',\n 'airplane',\n 'deer',\n 'airplane',\n 'truck',\n 'horse',\n 'airplane',\n 'deer',\n 'ship',\n 'horse',\n 'ship',\n 'airplane',\n 'deer',\n 'ship',\n 'horse',\n 'cat',\n 'bird',\n 'bird',\n 'ship',\n 'ship',\n 'bird',\n 'horse',\n 'ship',\n 'ship',\n 'deer',\n 'ship',\n 'bird',\n 'bird',\n 'dog',\n 'truck',\n 'dog',\n 'automobile',\n 'bird',\n 'horse',\n 'bird',\n 'deer',\n 'truck',\n 'horse',\n 'deer',\n 'cat',\n 'truck',\n 'cat',\n 'dog',\n 'ship',\n 'dog',\n 'automobile',\n 'horse',\n 'deer',\n 'airplane',\n 'truck',\n 'cat',\n 'bird',\n 'deer',\n 'ship',\n 'truck',\n 'truck',\n 'deer',\n 'dog',\n 'ship',\n 'dog',\n 'dog',\n 'truck',\n 'truck',\n 'bird',\n 'cat',\n 'airplane',\n 'airplane',\n 'deer',\n 'horse',\n 'ship',\n 'bird',\n 'deer',\n 'airplane',\n 'dog',\n 'bird',\n 'dog',\n 'bird',\n 'automobile',\n 'airplane',\n 'bird',\n 'ship',\n 'airplane',\n 'dog',\n 'ship',\n 'truck',\n 'airplane',\n 'truck',\n 'airplane',\n 'ship',\n 'truck',\n 'truck',\n 'automobile',\n 'dog',\n 'bird',\n 'cat',\n 'deer',\n 'airplane',\n 'deer',\n 'bird',\n 'truck',\n ...]"
     },
     "execution_count": 12,
     "metadata": {},
     "output_type": "execute_result"
    }
   ],
   "source": [
    "from sharedtask03.Model.helper import import_images_abgabe\n",
    "\n",
    "# Abgabe_test\n",
    "path = '../../data/02_test/test/'\n",
    "x_abgabe=import_images_abgabe(path)\n",
    "abgabe_test = model.predict(x=x_abgabe)\n",
    "\n",
    "pred_abgabe_test=abgabe_test.argmax(axis=1).reshape(-1)\n",
    "\n",
    "labels=['airplane','automobile','bird','cat','deer','dog','horse','ship','truck']\n",
    "abgabe=[]\n",
    "\n",
    "for picture in pred_abgabe_test:\n",
    "    abgabe.append(labels[picture])\n",
    "abgabe"
   ],
   "metadata": {
    "collapsed": false
   }
  },
  {
   "cell_type": "code",
   "execution_count": null,
   "outputs": [],
   "source": [],
   "metadata": {
    "collapsed": false
   }
  },
  {
   "cell_type": "code",
   "execution_count": null,
   "outputs": [],
   "source": [],
   "metadata": {
    "collapsed": false
   }
  },
  {
   "cell_type": "code",
   "execution_count": 13,
   "outputs": [
    {
     "name": "stdout",
     "output_type": "stream",
     "text": [
      "pred_test.csv successful saved!\n"
     ]
    }
   ],
   "source": [
    "# predict Data\n",
    "\n",
    "#pred_sampleTest= test.append(pred_sampleTest)\n",
    "np.savetxt(\"../../data/02_test/pred_sample.csv\",\n",
    "           abgabe,\n",
    "           delimiter =\", \",\n",
    "           fmt ='% s')\n",
    "print(\"pred_test.csv successful saved!\")\n",
    "\n",
    "# np.savetxt(\"../../data/02_test/pred_Abgabe.csv\",\n",
    "#            pred_Abgabe_ausgabe,\n",
    "#            delimiter =\", \",\n",
    "#            fmt ='% s')\n",
    "\n",
    "# print(\"pred_Abgabe.csv successful saved!\")"
   ],
   "metadata": {
    "collapsed": false
   }
  },
  {
   "cell_type": "code",
   "execution_count": null,
   "outputs": [],
   "source": [],
   "metadata": {
    "collapsed": false
   }
  },
  {
   "cell_type": "code",
   "execution_count": null,
   "outputs": [],
   "source": [],
   "metadata": {
    "collapsed": false
   }
  }
 ],
 "metadata": {
  "kernelspec": {
   "display_name": "Python 3",
   "language": "python",
   "name": "python3"
  },
  "language_info": {
   "codemirror_mode": {
    "name": "ipython",
    "version": 2
   },
   "file_extension": ".py",
   "mimetype": "text/x-python",
   "name": "python",
   "nbconvert_exporter": "python",
   "pygments_lexer": "ipython2",
   "version": "2.7.6"
  }
 },
 "nbformat": 4,
 "nbformat_minor": 0
}

{
 "cells": [
  {
   "cell_type": "code",
   "execution_count": 32,
   "outputs": [],
   "source": [
    "import pandas as pd\n",
    "import numpy as np\n",
    "from keras.utils import to_categorical"
   ],
   "metadata": {
    "collapsed": false
   }
  },
  {
   "cell_type": "code",
   "execution_count": 33,
   "outputs": [],
   "source": [
    "# download best model\n",
    "import wandb\n",
    "api = wandb.Api()\n",
    "run = api.run(\"deep_learning_hsa/Abgabe_03/jg839iaw\")\n",
    "model=run.file(\"model-best.h5\").download(replace=True)"
   ],
   "metadata": {
    "collapsed": false
   }
  },
  {
   "cell_type": "code",
   "execution_count": 34,
   "outputs": [],
   "source": [
    "from sharedtask03.Model.helper import import_images\n",
    "\n",
    "\n",
    "y_train, x_train = import_images(path='../../data/01_train/train/')\n",
    "y_test, x_test = import_images(path='../../data/01_train/val/')\n",
    "\n",
    "y_train = to_categorical(y_train)\n",
    "y_test = to_categorical(y_test)\n"
   ],
   "metadata": {
    "collapsed": false
   }
  },
  {
   "cell_type": "code",
   "execution_count": 35,
   "outputs": [],
   "source": [
    "import keras\n",
    "\n",
    "model = keras.models.load_model('model-best.h5')"
   ],
   "metadata": {
    "collapsed": false
   }
  },
  {
   "cell_type": "code",
   "execution_count": 36,
   "outputs": [],
   "source": [
    "import tensorflow as tf\n",
    "\n"
   ],
   "metadata": {
    "collapsed": false
   }
  },
  {
   "cell_type": "code",
   "execution_count": 37,
   "outputs": [
    {
     "name": "stdout",
     "output_type": "stream",
     "text": [
      "train\n",
      "1407/1407 [==============================] - 196s 139ms/step\n",
      "test\n",
      "282/282 [==============================] - 40s 142ms/step\n"
     ]
    }
   ],
   "source": [
    "\n",
    "from sklearn.metrics import mean_squared_error\n",
    "\n",
    "# print('pred_sample')\n",
    "# pred_sample = model.predict(x=test)\n",
    "# print(mean_squared_error(pred_sample, sampleTest))\n",
    "# print('')\n",
    "\n",
    "print('train')\n",
    "pred_train = model.predict(x=x_train)\n",
    "\n",
    "print('test')\n",
    "pred_test = model.predict(x=x_test)\n",
    "\n",
    "# print('test')\n",
    "# pred_Abgabe = model.predict(x=Abgabe_x)\n"
   ],
   "metadata": {
    "collapsed": false
   }
  },
  {
   "cell_type": "code",
   "execution_count": 38,
   "outputs": [
    {
     "name": "stdout",
     "output_type": "stream",
     "text": [
      "Train accuracy\n",
      "0.9301252942155441\n",
      "Test accuracy\n",
      "0.8192075570716347\n"
     ]
    }
   ],
   "source": [
    "\n",
    "# Train\n",
    "pred_trainn=pred_train.argmax(axis=1).reshape(-1)\n",
    "y_trainn=y_train.argmax(axis=1)\n",
    "\n",
    "matches = np.count_nonzero(y_trainn == pred_trainn)\n",
    "mismatches = y_trainn.size - matches\n",
    "print('Train accuracy')\n",
    "print(1-mismatches/matches)\n",
    "\n",
    "# Test\n",
    "pred_testt=pred_test.argmax(axis=1).reshape(-1)\n",
    "y_testt=y_test.argmax(axis=1)\n",
    "\n",
    "matches = np.count_nonzero(y_testt == pred_testt)\n",
    "mismatches = y_testt.size - matches\n",
    "print('Test accuracy')\n",
    "print(1-mismatches/matches)\n",
    "\n",
    "#81,9 jg839iaw\n",
    "#82,7 893lpjzs"
   ],
   "metadata": {
    "collapsed": false
   }
  },
  {
   "cell_type": "code",
   "execution_count": 39,
   "outputs": [
    {
     "name": "stdout",
     "output_type": "stream",
     "text": [
      "1/1 [==============================] - 0s 17ms/step\n"
     ]
    },
    {
     "data": {
      "text/plain": "['airplane',\n 'airplane',\n 'airplane',\n 'airplane',\n 'airplane',\n 'airplane',\n 'truck',\n 'airplane',\n 'airplane',\n 'airplane']"
     },
     "execution_count": 39,
     "metadata": {},
     "output_type": "execute_result"
    }
   ],
   "source": [
    "from sharedtask03.Model.helper import import_images_abgabe\n",
    "\n",
    "# Abgabe_test\n",
    "path = '../../data/01_train/test/'\n",
    "x_abgabe=import_images_abgabe(path)\n",
    "abgabe_test = model.predict(x=x_abgabe)\n",
    "\n",
    "pred_abgabe_test=abgabe_test.argmax(axis=1).reshape(-1)\n",
    "\n",
    "labels=['airplane','automobile','bird','cat','deer','dog','horse','ship','truck']\n",
    "abgabe=[]\n",
    "\n",
    "for picture in pred_abgabe_test:\n",
    "    abgabe.append(labels[picture])\n",
    "abgabe"
   ],
   "metadata": {
    "collapsed": false
   }
  },
  {
   "cell_type": "code",
   "execution_count": 39,
   "outputs": [],
   "source": [],
   "metadata": {
    "collapsed": false
   }
  },
  {
   "cell_type": "code",
   "execution_count": 39,
   "outputs": [],
   "source": [],
   "metadata": {
    "collapsed": false
   }
  },
  {
   "cell_type": "code",
   "execution_count": 40,
   "outputs": [
    {
     "name": "stdout",
     "output_type": "stream",
     "text": [
      "pred_test.csv successful saved!\n"
     ]
    }
   ],
   "source": [
    "# predict Data\n",
    "\n",
    "#pred_sampleTest= test.append(pred_sampleTest)\n",
    "np.savetxt(\"../../data/01_train/pred_sample.csv\",\n",
    "           abgabe,\n",
    "           delimiter =\", \",\n",
    "           fmt ='% s')\n",
    "print(\"pred_test.csv successful saved!\")\n",
    "\n",
    "# np.savetxt(\"../../data/02_test/pred_Abgabe.csv\",\n",
    "#            pred_Abgabe_ausgabe,\n",
    "#            delimiter =\", \",\n",
    "#            fmt ='% s')\n",
    "\n",
    "# print(\"pred_Abgabe.csv successful saved!\")"
   ],
   "metadata": {
    "collapsed": false
   }
  },
  {
   "cell_type": "code",
   "execution_count": 40,
   "outputs": [],
   "source": [],
   "metadata": {
    "collapsed": false
   }
  },
  {
   "cell_type": "code",
   "execution_count": 40,
   "outputs": [],
   "source": [],
   "metadata": {
    "collapsed": false
   }
  }
 ],
 "metadata": {
  "kernelspec": {
   "display_name": "Python 3",
   "language": "python",
   "name": "python3"
  },
  "language_info": {
   "codemirror_mode": {
    "name": "ipython",
    "version": 2
   },
   "file_extension": ".py",
   "mimetype": "text/x-python",
   "name": "python",
   "nbconvert_exporter": "python",
   "pygments_lexer": "ipython2",
   "version": "2.7.6"
  }
 },
 "nbformat": 4,
 "nbformat_minor": 0
}

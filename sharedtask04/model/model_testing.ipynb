{
 "cells": [
  {
   "cell_type": "code",
   "execution_count": 47,
   "metadata": {
    "collapsed": true
   },
   "outputs": [],
   "source": [
    "import csv\n",
    "import pandas as pd\n",
    "\n",
    "df_train=pd.read_csv('../data/01_train/train.tsv', sep='\\t',\n",
    "            header=0,\n",
    "            names = [\"Nr\",\"Wort\",\"Typ1\",\"Typ2\"],\n",
    "            quoting=csv.QUOTE_NONE, encoding='utf-8')\n",
    "\n",
    "\n",
    " #quoting=0, doublequote=False)\n",
    "            #quoting=csv.QUOTE_ALL)"
   ]
  },
  {
   "cell_type": "code",
   "execution_count": 48,
   "outputs": [],
   "source": [
    "\n",
    "df_train = df_train.drop(df_train[df_train['Nr']=='#'].index)"
   ],
   "metadata": {
    "collapsed": false,
    "pycharm": {
     "name": "#%%\n"
    }
   }
  },
  {
   "cell_type": "code",
   "execution_count": 49,
   "outputs": [
    {
     "data": {
      "text/plain": "O             410764\nB-LOC           8281\nB-PER           7679\nB-ORG           5255\nI-PER           4491\nI-ORG           3770\nI-OTH           3507\nB-OTH           3024\nB-LOCderiv      2808\nI-LOC           1169\nB-ORGpart        805\nB-LOCpart        513\nB-OTHderiv       236\nB-OTHpart        190\nB-PERpart        184\nB-PERderiv        62\nB-ORGderiv        41\nI-OTHpart         20\nI-LOCderiv        19\nI-ORGpart         18\nI-OTHderiv         9\nI-PERpart          6\nI-LOCpart          1\nI-PERderiv         1\nName: Typ1, dtype: int64"
     },
     "execution_count": 49,
     "metadata": {},
     "output_type": "execute_result"
    }
   ],
   "source": [
    "df_train['Typ1'].value_counts()"
   ],
   "metadata": {
    "collapsed": false,
    "pycharm": {
     "name": "#%%\n"
    }
   }
  },
  {
   "cell_type": "code",
   "execution_count": 50,
   "outputs": [
    {
     "data": {
      "text/plain": "O        410764\nB-LOC     11602\nB-PER      7925\nB-ORG      6101\nI-PER      4498\nI-ORG      3788\nI-OTH      3536\nB-OTH      3450\nI-LOC      1189\nName: Typ1, dtype: int64"
     },
     "execution_count": 50,
     "metadata": {},
     "output_type": "execute_result"
    }
   ],
   "source": [
    "# reformat labels\n",
    "labels_org=['B-LOCderiv','B-LOCpart',]\n",
    "\n",
    "labels_extension=['deriv','part']\n",
    "\n",
    "df_train.Typ1=df_train.Typ1.str.rstrip('deriv')\n",
    "df_train.Typ1=df_train.Typ1.str.rstrip('part')\n",
    "\n",
    "df_train['Typ1'].value_counts()"
   ],
   "metadata": {
    "collapsed": false,
    "pycharm": {
     "name": "#%%\n"
    }
   }
  },
  {
   "cell_type": "code",
   "execution_count": 57,
   "outputs": [
    {
     "data": {
      "text/plain": "O             450132\nB-LOC           1138\nB-LOCderiv       602\nB-PER            372\nB-ORG            222\nI-PER            123\nI-LOC             72\nB-OTH             49\nI-ORG             40\nB-LOCpart         33\nB-PERpart         22\nI-OTH             15\nB-PERderiv        15\nB-ORGpart          7\nI-LOCderiv         4\nB-ORGderiv         3\nB-OTHderiv         3\nB-OTHpart          1\nName: Typ2, dtype: int64"
     },
     "execution_count": 57,
     "metadata": {},
     "output_type": "execute_result"
    }
   ],
   "source": [
    "\n",
    "df_train['Typ2'].value_counts()"
   ],
   "metadata": {
    "collapsed": false,
    "pycharm": {
     "name": "#%%\n"
    }
   }
  },
  {
   "cell_type": "code",
   "execution_count": 51,
   "outputs": [
    {
     "data": {
      "text/plain": "        Nr          Wort   Typ1 Typ2\n0        1      Schartau  B-PER    O\n1        2         sagte      O    O\n2        3           dem      O    O\n3        4             \"      O    O\n4        5  Tagesspiegel  B-ORG    O\n...     ..           ...    ...  ...\n476847  19          lang      O    O\n476848  20       sperren      O    O\n476849  21            zu      O    O\n476850  22        lassen      O    O\n476851  23             .      O    O\n\n[452853 rows x 4 columns]",
      "text/html": "<div>\n<style scoped>\n    .dataframe tbody tr th:only-of-type {\n        vertical-align: middle;\n    }\n\n    .dataframe tbody tr th {\n        vertical-align: top;\n    }\n\n    .dataframe thead th {\n        text-align: right;\n    }\n</style>\n<table border=\"1\" class=\"dataframe\">\n  <thead>\n    <tr style=\"text-align: right;\">\n      <th></th>\n      <th>Nr</th>\n      <th>Wort</th>\n      <th>Typ1</th>\n      <th>Typ2</th>\n    </tr>\n  </thead>\n  <tbody>\n    <tr>\n      <th>0</th>\n      <td>1</td>\n      <td>Schartau</td>\n      <td>B-PER</td>\n      <td>O</td>\n    </tr>\n    <tr>\n      <th>1</th>\n      <td>2</td>\n      <td>sagte</td>\n      <td>O</td>\n      <td>O</td>\n    </tr>\n    <tr>\n      <th>2</th>\n      <td>3</td>\n      <td>dem</td>\n      <td>O</td>\n      <td>O</td>\n    </tr>\n    <tr>\n      <th>3</th>\n      <td>4</td>\n      <td>\"</td>\n      <td>O</td>\n      <td>O</td>\n    </tr>\n    <tr>\n      <th>4</th>\n      <td>5</td>\n      <td>Tagesspiegel</td>\n      <td>B-ORG</td>\n      <td>O</td>\n    </tr>\n    <tr>\n      <th>...</th>\n      <td>...</td>\n      <td>...</td>\n      <td>...</td>\n      <td>...</td>\n    </tr>\n    <tr>\n      <th>476847</th>\n      <td>19</td>\n      <td>lang</td>\n      <td>O</td>\n      <td>O</td>\n    </tr>\n    <tr>\n      <th>476848</th>\n      <td>20</td>\n      <td>sperren</td>\n      <td>O</td>\n      <td>O</td>\n    </tr>\n    <tr>\n      <th>476849</th>\n      <td>21</td>\n      <td>zu</td>\n      <td>O</td>\n      <td>O</td>\n    </tr>\n    <tr>\n      <th>476850</th>\n      <td>22</td>\n      <td>lassen</td>\n      <td>O</td>\n      <td>O</td>\n    </tr>\n    <tr>\n      <th>476851</th>\n      <td>23</td>\n      <td>.</td>\n      <td>O</td>\n      <td>O</td>\n    </tr>\n  </tbody>\n</table>\n<p>452853 rows × 4 columns</p>\n</div>"
     },
     "execution_count": 51,
     "metadata": {},
     "output_type": "execute_result"
    }
   ],
   "source": [
    "df_train"
   ],
   "metadata": {
    "collapsed": false,
    "pycharm": {
     "name": "#%%\n"
    }
   }
  },
  {
   "cell_type": "code",
   "execution_count": 55,
   "outputs": [
    {
     "data": {
      "text/plain": "1     1.000000\n2     1.000000\n3     1.000000\n4     0.999875\n5     0.998542\n6     0.993250\n7     0.980042\n8     0.959333\n9     0.927875\n10    0.889833\n11    0.844333\n12    0.799000\n13    0.751250\n14    0.702333\n15    0.652958\n16    0.605000\n17    0.555083\n18    0.507375\n19    0.460833\n20    0.417417\n21    0.376417\n22    0.337333\n23    0.300208\n24    0.264750\n25    0.234583\n26    0.205167\n27    0.180167\n28    0.159333\n29    0.138000\n30    0.117792\n31    0.100542\n32    0.084583\n33    0.071000\n34    0.058417\n35    0.046417\n36    0.037083\n37    0.030250\n38    0.022917\n39    0.017458\n40    0.013667\n41    0.009333\n42    0.006583\n43    0.004375\n44    0.002542\n45    0.001708\n46    0.001167\n47    0.001042\n48    0.000667\n49    0.000458\n50    0.000208\n51    0.000125\n52    0.000083\n53    0.000042\n54    0.000042\n55    0.000042\n56    0.000042\nName: Nr, dtype: float64"
     },
     "execution_count": 55,
     "metadata": {},
     "output_type": "execute_result"
    }
   ],
   "source": [
    "df_train['Nr'].value_counts()/df_train['Nr'].value_counts()[0]"
   ],
   "metadata": {
    "collapsed": false,
    "pycharm": {
     "name": "#%%\n"
    }
   }
  },
  {
   "cell_type": "code",
   "execution_count": 58,
   "outputs": [
    {
     "data": {
      "text/plain": "Empty DataFrame\nColumns: [a, b]\nIndex: []",
      "text/html": "<div>\n<style scoped>\n    .dataframe tbody tr th:only-of-type {\n        vertical-align: middle;\n    }\n\n    .dataframe tbody tr th {\n        vertical-align: top;\n    }\n\n    .dataframe thead th {\n        text-align: right;\n    }\n</style>\n<table border=\"1\" class=\"dataframe\">\n  <thead>\n    <tr style=\"text-align: right;\">\n      <th></th>\n      <th>a</th>\n      <th>b</th>\n    </tr>\n  </thead>\n  <tbody>\n  </tbody>\n</table>\n</div>"
     },
     "execution_count": 58,
     "metadata": {},
     "output_type": "execute_result"
    }
   ],
   "source": [
    "context_length=10\n",
    "\n",
    "x_train=pd.DataFrame(columns=['w_1','w_2'])\n",
    "\n",
    "x_train"
   ],
   "metadata": {
    "collapsed": false,
    "pycharm": {
     "name": "#%%\n"
    }
   }
  },
  {
   "cell_type": "code",
   "execution_count": null,
   "outputs": [],
   "source": [],
   "metadata": {
    "collapsed": false,
    "pycharm": {
     "name": "#%%\n"
    }
   }
  },
  {
   "cell_type": "code",
   "execution_count": null,
   "outputs": [],
   "source": [],
   "metadata": {
    "collapsed": false,
    "pycharm": {
     "name": "#%%\n"
    }
   }
  },
  {
   "cell_type": "code",
   "execution_count": null,
   "outputs": [],
   "source": [],
   "metadata": {
    "collapsed": false,
    "pycharm": {
     "name": "#%%\n"
    }
   }
  },
  {
   "cell_type": "code",
   "execution_count": null,
   "outputs": [],
   "source": [],
   "metadata": {
    "collapsed": false,
    "pycharm": {
     "name": "#%%\n"
    }
   }
  },
  {
   "cell_type": "code",
   "execution_count": null,
   "outputs": [],
   "source": [
    "# Select words that will be visualized\n",
    "labels = []\n",
    "tokens = []\n",
    "\n",
    "# offset can be set to skip stop words\n",
    "offset = 100\n",
    "# defines the number of visualized words\n",
    "num_visualizations = 250\n",
    "\n",
    "for i in range(index_from + 1 + offset,\n",
    "               index_from + 1 + offset + num_visualizations):\n",
    "    if i >= len(embedding_layer.get_weights()[0]):\n",
    "        break\n",
    "    tokens.append(embedding_layer.get_weights()[0][i])\n",
    "    labels.append(inverted_word_index[i])\n",
    "\n",
    "# use t-SNE as dimension reduction method\n",
    "tsne_model = TSNE(perplexity=40, n_components=2, init='pca', n_iter=2500,random_state=42)\n",
    "new_values = tsne_model.fit_transform(np.asarray(tokens))\n",
    "\n",
    "# visualize data\n",
    "x = []\n",
    "y = []\n",
    "for value in new_values:\n",
    "    x.append(value[0])\n",
    "    y.append(value[1])\n",
    "\n",
    "plt.figure(figsize=(16, 16))\n",
    "for i in range(len(x)):\n",
    "    plt.scatter(x[i], y[i])\n",
    "    plt.annotate(labels[i],\n",
    "                 xy=(x[i], y[i]),\n",
    "                 xytext=(5, 2),\n",
    "                 textcoords='offset points',\n",
    "                 ha='right',\n",
    "                 va='bottom')"
   ],
   "metadata": {
    "collapsed": false,
    "pycharm": {
     "name": "#%%\n"
    }
   }
  }
 ],
 "metadata": {
  "kernelspec": {
   "display_name": "Python 3",
   "language": "python",
   "name": "python3"
  },
  "language_info": {
   "codemirror_mode": {
    "name": "ipython",
    "version": 2
   },
   "file_extension": ".py",
   "mimetype": "text/x-python",
   "name": "python",
   "nbconvert_exporter": "python",
   "pygments_lexer": "ipython2",
   "version": "2.7.6"
  }
 },
 "nbformat": 4,
 "nbformat_minor": 0
}